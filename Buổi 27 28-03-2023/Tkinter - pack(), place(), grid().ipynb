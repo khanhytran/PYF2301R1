{
 "cells": [
  {
   "cell_type": "markdown",
   "id": "fd17a0b9",
   "metadata": {},
   "source": [
    "# Tkinter Pack"
   ]
  },
  {
   "cell_type": "markdown",
   "id": "01024271",
   "metadata": {},
   "source": [
    "The pack geometry manager has many configurations. The following are the most commonly used options: fill, expand, side, anchor, ipadx, ipady, padx, and pady."
   ]
  },
  {
   "cell_type": "code",
   "execution_count": null,
   "id": "4360746f",
   "metadata": {},
   "outputs": [],
   "source": []
  }
 ],
 "metadata": {
  "kernelspec": {
   "display_name": "Python 3 (ipykernel)",
   "language": "python",
   "name": "python3"
  },
  "language_info": {
   "codemirror_mode": {
    "name": "ipython",
    "version": 3
   },
   "file_extension": ".py",
   "mimetype": "text/x-python",
   "name": "python",
   "nbconvert_exporter": "python",
   "pygments_lexer": "ipython3",
   "version": "3.11.0"
  }
 },
 "nbformat": 4,
 "nbformat_minor": 5
}
