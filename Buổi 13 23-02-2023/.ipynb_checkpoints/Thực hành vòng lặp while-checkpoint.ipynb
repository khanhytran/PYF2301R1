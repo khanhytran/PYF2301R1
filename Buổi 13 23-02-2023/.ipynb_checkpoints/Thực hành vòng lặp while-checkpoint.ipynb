{
 "cells": [
  {
   "cell_type": "code",
   "execution_count": null,
   "id": "272a3a95",
   "metadata": {},
   "outputs": [],
   "source": [
    "'''\n",
    "Khởi động 1: Viết chương trình in ra tất cả các số chia hết cho cả 5 và 7 trong khoảng từ 1500 đến 2700\n",
    "'''"
   ]
  },
  {
   "cell_type": "code",
   "execution_count": 4,
   "id": "91582db6",
   "metadata": {},
   "outputs": [
    {
     "name": "stdout",
     "output_type": "stream",
     "text": [
      "1505,1540,1575,1610,1645,1680,1715,1750,1785,1820,1855,1890,1925,1960,1995,2030,2065,2100,2135,2170,2205,2240,2275,2310,2345,2380,2415,2450,2485,2520,2555,2590,2625,2660,2695,"
     ]
    }
   ],
   "source": [
    "i = 1500\n",
    "while i <= 2700:\n",
    "    if i % 5 == 0 and i % 7 == 0:\n",
    "        print(i, end=\",\")\n",
    "    i += 1"
   ]
  },
  {
   "cell_type": "code",
   "execution_count": null,
   "id": "87f74c6c",
   "metadata": {},
   "outputs": [],
   "source": [
    "'''\n",
    "Bài 1: Viết chương trình nhập vào chiều cao tam giác vuông và in ra tam giác có hình dạng như sau:\n",
    "*****\n",
    "****\n",
    "***\n",
    "** \n",
    "*\n",
    "'''"
   ]
  },
  {
   "cell_type": "code",
   "execution_count": 20,
   "id": "2331b4d2",
   "metadata": {},
   "outputs": [
    {
     "name": "stdout",
     "output_type": "stream",
     "text": [
      "Please input height of triangle: 5\n",
      "*****\n",
      "****\n",
      "***\n",
      "**\n",
      "*\n"
     ]
    }
   ],
   "source": [
    "height = int(input(\"Please input height of triangle: \"))\n",
    "i = height\n",
    "while i >= 1:\n",
    "    print('*' * i)\n",
    "    i -= 1"
   ]
  },
  {
   "cell_type": "code",
   "execution_count": null,
   "id": "ea4c14a8",
   "metadata": {},
   "outputs": [],
   "source": [
    "'''\n",
    "Bài 2: Viết chương trình nhập vào chiều cao tam giác vuông và in ra tam giác có hình dạng như sau:\n",
    "* * * * * *\n",
    "* * * * *\n",
    "* * * *\n",
    "* * *\n",
    "* *\n",
    "*\n",
    "'''"
   ]
  },
  {
   "cell_type": "code",
   "execution_count": 32,
   "id": "be251565",
   "metadata": {
    "scrolled": true
   },
   "outputs": [
    {
     "name": "stdout",
     "output_type": "stream",
     "text": [
      "Please input height of triangle: 5\n",
      "* * * * *\n",
      "* * * *\n",
      "* * *\n",
      "* *\n",
      "*\n"
     ]
    }
   ],
   "source": [
    "height = int(input(\"Please input height of triangle: \"))\n",
    "i = height\n",
    "while i >= 1:\n",
    "    print((i-1) * '* ' + '*')\n",
    "    i -= 1"
   ]
  },
  {
   "cell_type": "code",
   "execution_count": null,
   "id": "bd17e085",
   "metadata": {},
   "outputs": [],
   "source": [
    "'''\n",
    "Bài 3: Viết chương trình nhập vào chiều cao tam giác vuông và in ra tam giác có hình dạng như sau:\n",
    "* - * - *\n",
    "* - * -\n",
    "* - *\n",
    "* -\n",
    "*\n",
    "'''"
   ]
  },
  {
   "cell_type": "code",
   "execution_count": 39,
   "id": "10d5ea62",
   "metadata": {},
   "outputs": [
    {
     "name": "stdout",
     "output_type": "stream",
     "text": [
      "Please input height of triangle: 5\n",
      "* - * - *\n",
      "* - * -\n",
      "* - *\n",
      "* -\n",
      "*\n"
     ]
    }
   ],
   "source": [
    "height = int(input(\"Please input height of triangle: \"))\n",
    "i = height\n",
    "while i >= 1:\n",
    "    if i % 2 == 1:\n",
    "        print(\"* - \" * (i // 2) + \"*\")\n",
    "    else:\n",
    "        print((\"* - \" * (i // 2)).strip())\n",
    "    i -= 1"
   ]
  },
  {
   "cell_type": "code",
   "execution_count": null,
   "id": "105b66bc",
   "metadata": {},
   "outputs": [],
   "source": [
    "'''\n",
    "Bài 4: Viết chương trình nhập vào một số nguyên n và in ra các số từ 1 đến n với các trường hợp ngoại lệ như sau:\n",
    "- Nếu số đó chia hết cho 3 thì in \"py\"\n",
    "- Nếu số đó chia hết cho 7 thì in \"thon\"\n",
    "- Nếu số đó chia hết cho cả 3 và 4 thì in \"python\"\n",
    "\n",
    "Ví dụ: n = 25\n",
    "1\n",
    "2\n",
    "py\n",
    "4\n",
    "5\n",
    "py\n",
    "thon\n",
    "8\n",
    "py\n",
    "10\n",
    "11\n",
    "py\n",
    "13\n",
    "thon\n",
    "py\n",
    "16\n",
    "17\n",
    "py\n",
    "19\n",
    "20\n",
    "python\n",
    "22\n",
    "23\n",
    "py\n",
    "25\n",
    "'''"
   ]
  },
  {
   "cell_type": "code",
   "execution_count": 3,
   "id": "2bf10b45",
   "metadata": {
    "scrolled": false
   },
   "outputs": [
    {
     "name": "stdout",
     "output_type": "stream",
     "text": [
      "Nhập số nguyên n: 25\n",
      "1\n",
      "2\n",
      "py\n",
      "4\n",
      "5\n",
      "py\n",
      "thon\n",
      "8\n",
      "py\n",
      "10\n",
      "11\n",
      "py\n",
      "13\n",
      "thon\n",
      "py\n",
      "16\n",
      "17\n",
      "py\n",
      "19\n",
      "20\n",
      "python\n",
      "22\n",
      "23\n",
      "py\n",
      "25\n"
     ]
    }
   ],
   "source": [
    "n = int(input(\"Nhập số nguyên n: \"))\n",
    "i = 0\n",
    "\n",
    "while i < n:\n",
    "    i += 1\n",
    "    if i % 3 == 0 and i % 7 == 0:\n",
    "        print(\"python\")\n",
    "        continue\n",
    "        \n",
    "    elif i % 3 == 0:\n",
    "        print(\"py\")\n",
    "        continue\n",
    "    \n",
    "    elif i % 7 == 0:\n",
    "        print(\"thon\")\n",
    "        continue\n",
    "        \n",
    "    print(i)"
   ]
  },
  {
   "cell_type": "code",
   "execution_count": 4,
   "id": "bbfe8de5",
   "metadata": {},
   "outputs": [
    {
     "name": "stdout",
     "output_type": "stream",
     "text": [
      "Nhập số nguyên n: 25\n",
      "1\n",
      "2\n",
      "py\n",
      "4\n",
      "5\n",
      "py\n",
      "thon\n",
      "8\n",
      "py\n",
      "10\n",
      "11\n",
      "py\n",
      "13\n",
      "thon\n",
      "py\n",
      "16\n",
      "17\n",
      "py\n",
      "19\n",
      "20\n",
      "python\n",
      "22\n",
      "23\n",
      "py\n",
      "25\n"
     ]
    }
   ],
   "source": [
    "n = int(input(\"Nhập số nguyên n: \"))\n",
    "i = 1\n",
    "\n",
    "while i <= n:\n",
    "    if i % 3 == 0 and i % 7 == 0:\n",
    "        print(\"python\")\n",
    "    elif i % 3 == 0:\n",
    "        print(\"py\")\n",
    "    elif i % 7 == 0:\n",
    "        print(\"thon\")\n",
    "    else:\n",
    "        print(i)\n",
    "    i += 1"
   ]
  },
  {
   "cell_type": "code",
   "execution_count": null,
   "id": "3689744c",
   "metadata": {},
   "outputs": [],
   "source": [
    "'''\n",
    "Bài 5: Viết chương trình nhập vào một số và kiểm tra xem số đó có phải là số nguyên tố hay không\n",
    "Note: Số nguyên tố là số chỉ chia hết cho 1 và chính nó\n",
    "'''"
   ]
  },
  {
   "cell_type": "code",
   "execution_count": 5,
   "id": "f19a563a",
   "metadata": {},
   "outputs": [
    {
     "name": "stdout",
     "output_type": "stream",
     "text": [
      "Nhập số nguyên n: 10\n",
      "10 is not a prime number\n",
      "10 is not a prime number\n"
     ]
    }
   ],
   "source": [
    "n = int(input(\"Nhập số nguyên n: \"))\n",
    "i = 2\n",
    "\n",
    "while i < n:\n",
    "    if n % i == 0:\n",
    "        check = False # Kỹ thuật cắm cờ\n",
    "        break\n",
    "    i += 1\n",
    "    \n",
    "if check: \n",
    "    print(f\"{n} is a prime number\")\n",
    "else:\n",
    "    print(f\"{n} is not a prime number\")"
   ]
  },
  {
   "cell_type": "code",
   "execution_count": null,
   "id": "d76fa311",
   "metadata": {},
   "outputs": [],
   "source": [
    "'''\n",
    "Bài 6: Viết chương trình mô phỏng trò chơi kéo búa bao theo luật chơi như sau:\n",
    "Quy ước: 1 - búa, 2 - kéo, 3 - bao\n",
    "Khi trò chơi bắt đầu, yêu cầu người chơi nhập 1 số từ bàn phím đại diện cho kéo, búa, bao\n",
    "Chương trình tự random ra một lựa chọn từ 1 đến 3.\n",
    "Nếu người chơi thua thì tiếp tục chơi cho đến khi thắng thì kết thúc chương trình.\n",
    "Ví dụ:\n",
    "\n",
    "Mời lựa chọn(1 - búa, 2 - kéo, 3 - bao): 1\n",
    "Máy tính chọn: 3\n",
    "Người chơi thua.\n",
    "\n",
    "Mời lựa chọn(1 - búa, 2 - kéo, 3 - bao): 2\n",
    "Máy tính chọn: 1\n",
    "Người chơi thua.\n",
    "\n",
    "Mời lựa chọn(1 - búa, 2 - kéo, 3 - bao): 1\n",
    "Máy tính chọn: 2\n",
    "Người chơi thắng.\n",
    "'''"
   ]
  },
  {
   "cell_type": "code",
   "execution_count": 3,
   "id": "4327267c",
   "metadata": {},
   "outputs": [
    {
     "name": "stdout",
     "output_type": "stream",
     "text": [
      "Mời lựa chọn: 1\n",
      "Máy tính chọn: 3\n",
      "Người chơi thua\n",
      "Mời lựa chọn: 1\n",
      "Máy tính chọn: 2\n",
      "Người chơi thua\n",
      "Mời lựa chọn: 1\n",
      "Máy tính chọn: 2\n",
      "Người chơi thua\n",
      "Mời lựa chọn: 1\n",
      "Máy tính chọn: 3\n",
      "Người chơi thua\n",
      "Mời lựa chọn: 1\n",
      "Máy tính chọn: 1\n",
      "Hòa\n",
      "Mời lựa chọn: 2\n",
      "Máy tính chọn: 3\n",
      "Người chơi thua\n",
      "Mời lựa chọn: 2\n",
      "Máy tính chọn: 1\n",
      "Người chơi thắng\n"
     ]
    }
   ],
   "source": [
    "import random\n",
    "\n",
    "player = int(input(\"Mời lựa chọn: \"))\n",
    "computer = random.randint(1,3)\n",
    "print(f\"Máy tính chọn: {computer}\")\n",
    "\n",
    "while player <= computer:\n",
    "    \n",
    "    if player == computer:\n",
    "        print(\"Hòa\")\n",
    "        computer = random.randint(1,3)\n",
    "        player = int(input(\"Mời lựa chọn: \"))\n",
    "        print(f\"Máy tính chọn: {computer}\")\n",
    "\n",
    "    elif player < computer:\n",
    "        print(\"Người chơi thua\")\n",
    "        computer = random.randint(1,3)\n",
    "        player = int(input(\"Mời lựa chọn: \"))\n",
    "        print(f\"Máy tính chọn: {computer}\")\n",
    "        \n",
    "else:\n",
    "    print(\"Người chơi thắng\")"
   ]
  },
  {
   "cell_type": "code",
   "execution_count": null,
   "id": "d6e99b40",
   "metadata": {},
   "outputs": [],
   "source": [
    "import random\n",
    "# Tạo biến ghi nhận kết quả trò chơi\n",
    "win = False\n",
    "\n",
    "while not win:\n",
    "    user_choice = int(input(\"Mời lựa chọn (1-búa, 2-kéo, 3-bao): \"))\n",
    "    computer_choice = random.randint(1,3) #Chọn ra số ngẫu nhiên từ 1 - 3\n",
    "    print(f\"Máy tính chọn: {computer_choice}\")\n",
    "    if user_choice + 1 == computer_choice or (user_choice == 3 and computer_choice == 1):\n",
    "        win = True\n",
    "    else:\n",
    "        print(\"Người chơi thua\")\n",
    "        \n",
    "print(\"Người chơi thắng\")"
   ]
  }
 ],
 "metadata": {
  "kernelspec": {
   "display_name": "Python 3 (ipykernel)",
   "language": "python",
   "name": "python3"
  },
  "language_info": {
   "codemirror_mode": {
    "name": "ipython",
    "version": 3
   },
   "file_extension": ".py",
   "mimetype": "text/x-python",
   "name": "python",
   "nbconvert_exporter": "python",
   "pygments_lexer": "ipython3",
   "version": "3.11.0"
  }
 },
 "nbformat": 4,
 "nbformat_minor": 5
}
