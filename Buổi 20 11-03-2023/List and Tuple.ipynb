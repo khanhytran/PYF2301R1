{
 "cells": [
  {
   "cell_type": "markdown",
   "metadata": {},
   "source": [
    "## Review: type()"
   ]
  },
  {
   "cell_type": "code",
   "execution_count": null,
   "metadata": {},
   "outputs": [],
   "source": [
    "# Python có 4 kiểu dữ liệu cơ bản\n",
    "\n",
    "'''string, int, float, boolean'''"
   ]
  },
  {
   "cell_type": "code",
   "execution_count": 1,
   "metadata": {},
   "outputs": [
    {
     "name": "stdout",
     "output_type": "stream",
     "text": [
      "<class 'int'>\n"
     ]
    }
   ],
   "source": [
    "a = 5\n",
    "print(type(a))"
   ]
  },
  {
   "cell_type": "code",
   "execution_count": 2,
   "metadata": {},
   "outputs": [
    {
     "name": "stdout",
     "output_type": "stream",
     "text": [
      "a là dạng số nguyên\n"
     ]
    }
   ],
   "source": [
    "a = 5\n",
    "if type(a) == int:\n",
    "    print(\"a là dạng số nguyên\")\n",
    "else:\n",
    "    print(\"a không phải là dạng số nguyên\")"
   ]
  },
  {
   "cell_type": "code",
   "execution_count": 3,
   "metadata": {},
   "outputs": [
    {
     "name": "stdout",
     "output_type": "stream",
     "text": [
      "1.0\n",
      "0.8333333333333334\n"
     ]
    }
   ],
   "source": [
    "def ham(a):\n",
    "    if type(a) == int:\n",
    "        return a/2\n",
    "    if type(a) == float:\n",
    "        return a/3\n",
    "\n",
    "print(ham(2))\n",
    "print(ham(2.5))"
   ]
  },
  {
   "cell_type": "markdown",
   "metadata": {},
   "source": [
    "## list là gì?"
   ]
  },
  {
   "cell_type": "code",
   "execution_count": null,
   "metadata": {},
   "outputs": [],
   "source": [
    "# Ví dụ\n",
    "\n",
    "lists = [] #l là list rỗng"
   ]
  },
  {
   "cell_type": "code",
   "execution_count": 4,
   "metadata": {},
   "outputs": [
    {
     "name": "stdout",
     "output_type": "stream",
     "text": [
      "[2, 7, 15]\n"
     ]
    }
   ],
   "source": [
    "lists = [2, 7, 15]\n",
    "print(lists)"
   ]
  },
  {
   "cell_type": "code",
   "execution_count": 5,
   "metadata": {},
   "outputs": [
    {
     "name": "stdout",
     "output_type": "stream",
     "text": [
      "[2, 'xin chào', 15, True]\n"
     ]
    }
   ],
   "source": [
    "lists = [2, \"xin chào\", 15, True]\n",
    "print(lists)"
   ]
  },
  {
   "cell_type": "code",
   "execution_count": null,
   "metadata": {},
   "outputs": [],
   "source": [
    "# Sử dụng list\n",
    "\n",
    "lists = []\n",
    "\n",
    "#Thêm phần tử vào list:\n",
    "list.append(3)"
   ]
  },
  {
   "cell_type": "code",
   "execution_count": null,
   "metadata": {},
   "outputs": [],
   "source": [
    "n = int(input(\"Nhập vào n: \"))\n",
    "\n",
    "#Nhập n số tiếp theo và lưu n đó vào list\n",
    "lists = []\n",
    "for i in range(1, n+1):\n",
    "    a = int(input(f\"Nhập vào phần tử thứ {i}: \"))\n",
    "    lists.append(a)\n",
    "\n",
    "print(lists)"
   ]
  },
  {
   "cell_type": "code",
   "execution_count": 3,
   "metadata": {},
   "outputs": [
    {
     "name": "stdout",
     "output_type": "stream",
     "text": [
      "15\n",
      "15\n",
      "15\n",
      "15\n"
     ]
    }
   ],
   "source": [
    "lists = [10, 15, 17, 18]\n",
    "\n",
    "for i in range(4):\n",
    "    print(lists[i])"
   ]
  },
  {
   "cell_type": "code",
   "execution_count": 4,
   "metadata": {
    "scrolled": true
   },
   "outputs": [
    {
     "name": "stdout",
     "output_type": "stream",
     "text": [
      "15\n",
      "7\n",
      "20\n",
      "23\n",
      "231\n",
      "245\n",
      "2\n",
      "91\n"
     ]
    }
   ],
   "source": [
    "lists = [15, 7 , 20, 23, 231, 245, 2, 91]\n",
    "\n",
    "for i in range(len(lists)):\n",
    "    print(lists[i])"
   ]
  },
  {
   "cell_type": "code",
   "execution_count": 11,
   "metadata": {},
   "outputs": [
    {
     "name": "stdout",
     "output_type": "stream",
     "text": [
      "6\n",
      "[15, 20, 23, 231, 245, 91]\n"
     ]
    }
   ],
   "source": [
    "lists = [15, 7 , 20, 23, 231, 245, 2, 91]\n",
    "l_count = []\n",
    "\n",
    "#Đếm số lượng phần tử lớn hơn 10\n",
    "count = 0\n",
    "\n",
    "for i in range(len(lists)):\n",
    "    if lists[i] > 10:\n",
    "        count += 1\n",
    "        l_count.append(lists[i])\n",
    "    \n",
    "print(count)\n",
    "print(l_count)"
   ]
  },
  {
   "cell_type": "markdown",
   "metadata": {},
   "source": [
    "### Thực hành: Viết chương trình tạo ra một list các string khác nhau và đếm tổng số lượng string dài hơn 3 kí tự"
   ]
  },
  {
   "cell_type": "code",
   "execution_count": 15,
   "metadata": {},
   "outputs": [
    {
     "name": "stdout",
     "output_type": "stream",
     "text": [
      "2\n"
     ]
    }
   ],
   "source": [
    "lists = [\"xin chào\", \"a\", \"hello\", \"hi\"]\n",
    "count = 0\n",
    "\n",
    "for i in range(len(lists)):\n",
    "    if len(lists[i]) > 3:\n",
    "        count += 1\n",
    "print(count)"
   ]
  },
  {
   "cell_type": "code",
   "execution_count": 17,
   "metadata": {},
   "outputs": [
    {
     "name": "stdout",
     "output_type": "stream",
     "text": [
      "L không có chuỗi \"a\"\n"
     ]
    }
   ],
   "source": [
    "#kiểm tra phần tử có trong list hay không:\n",
    "\n",
    "lists = [\"xin chào\", \"hello\", \"hi\"]\n",
    "\n",
    "if \"a\" in lists:\n",
    "    print('L có chuỗi \"a\"')\n",
    "else:\n",
    "    print('L không có chuỗi \"a\"')"
   ]
  },
  {
   "cell_type": "code",
   "execution_count": 25,
   "metadata": {},
   "outputs": [
    {
     "name": "stdout",
     "output_type": "stream",
     "text": [
      "Nhập một chuỗi: hello\n",
      "True\n"
     ]
    }
   ],
   "source": [
    "lists = [\"xin chào\", \"hello\", \"hi\"]\n",
    "\n",
    "a = input(\"Nhập một chuỗi: \")\n",
    "\n",
    "print(a in lists)"
   ]
  },
  {
   "cell_type": "markdown",
   "metadata": {},
   "source": [
    "### Thực hành 2: Viết chương trình nhận vào 2 list và trả về True nếu 2 list có ít nhất 1 phần tử chung, ngược lại trả về False"
   ]
  },
  {
   "cell_type": "code",
   "execution_count": 5,
   "metadata": {},
   "outputs": [
    {
     "name": "stdout",
     "output_type": "stream",
     "text": [
      "True\n",
      "False\n"
     ]
    }
   ],
   "source": [
    "def check_list(L1, L2):\n",
    "    for i in range(len(L1)):\n",
    "        if L1[i] in L2:\n",
    "            return True\n",
    "    return False\n",
    "        \n",
    "print(check_list([2,3,4], [2,5,7]))\n",
    "print(check_list([2,3,4], [9,5,7]))"
   ]
  },
  {
   "cell_type": "markdown",
   "metadata": {},
   "source": [
    "## Các thao tác cơ bản với list"
   ]
  },
  {
   "cell_type": "markdown",
   "metadata": {},
   "source": [
    "### Kiểm tra độ dài list"
   ]
  },
  {
   "cell_type": "code",
   "execution_count": null,
   "metadata": {},
   "outputs": [],
   "source": [
    "lists = [1, 2. 3]\n",
    "len(lists)"
   ]
  },
  {
   "cell_type": "markdown",
   "metadata": {},
   "source": [
    "### Truy cập phần tử trên list"
   ]
  },
  {
   "cell_type": "code",
   "execution_count": 1,
   "metadata": {},
   "outputs": [
    {
     "name": "stdout",
     "output_type": "stream",
     "text": [
      "1\n",
      "2\n",
      "3\n",
      "[1, 2, 100]\n"
     ]
    }
   ],
   "source": [
    "lists = [1, 2, 3]\n",
    "print(lists[0])\n",
    "print(lists[1])\n",
    "print(lists[2])\n",
    "\n",
    "lists[2] = 100 #item assignment\n",
    "print(lists)"
   ]
  },
  {
   "cell_type": "markdown",
   "metadata": {},
   "source": [
    "### Thực hành: Tạo một list 10 số tự nhiên và in ra các phần tử trong list"
   ]
  },
  {
   "cell_type": "code",
   "execution_count": null,
   "metadata": {},
   "outputs": [],
   "source": []
  },
  {
   "cell_type": "markdown",
   "metadata": {},
   "source": [
    "### Thực hành 2: Tạo ra một list con chưa 2 phần tử cuối cùng từ list đã tạo ở trên"
   ]
  },
  {
   "cell_type": "code",
   "execution_count": 10,
   "metadata": {},
   "outputs": [
    {
     "name": "stdout",
     "output_type": "stream",
     "text": [
      "[2, [91]]\n"
     ]
    }
   ],
   "source": [
    "lists = [15, 7 , 20, 23, 231, 245, 2, 91]\n",
    "l_con = []\n",
    "\n",
    "l_con.append(lists[-2])\n",
    "l_con.append(lists[-1])\n",
    "\n",
    "print(l_con)"
   ]
  },
  {
   "cell_type": "code",
   "execution_count": 11,
   "metadata": {},
   "outputs": [
    {
     "name": "stdout",
     "output_type": "stream",
     "text": [
      "[2, 91]\n"
     ]
    }
   ],
   "source": [
    "lists = [15, 7 , 20, 23, 231, 245, 2, 91]\n",
    "l_con = lists[-2:]\n",
    "\n",
    "print(l_con)"
   ]
  },
  {
   "cell_type": "markdown",
   "metadata": {},
   "source": [
    "### Cộng list"
   ]
  },
  {
   "cell_type": "code",
   "execution_count": 12,
   "metadata": {},
   "outputs": [
    {
     "name": "stdout",
     "output_type": "stream",
     "text": [
      "[2, 3, 4, 2, 5, 7]\n"
     ]
    }
   ],
   "source": [
    "L1 = [2, 3, 4]\n",
    "L2 = [2, 5, 7]\n",
    "\n",
    "L = L1 + L2\n",
    "\n",
    "print(L)"
   ]
  },
  {
   "cell_type": "markdown",
   "metadata": {},
   "source": [
    "### Thực hành: Thêm học sinh vào lớp"
   ]
  },
  {
   "cell_type": "code",
   "execution_count": null,
   "metadata": {},
   "outputs": [],
   "source": [
    "# Tạo một list danh_sach_lop chứa tên của 4 học sinh khác nhau và một list hoc_sinh_moi chứa tên của\n",
    "# 2 học sinh mới vào lớp. Hãy thêm tên các học sinh mới vào list danh_sach_lop bằng cách cộng list.\n",
    "danh_sach_lop = ['Andy', 'Bella', 'Cindy', 'Daniel']\n",
    "hoc_sinh_moi = ['Emma', 'Ferb']\n",
    "\n",
    "danh_sach_lop += hoc_sinh_moi\n",
    "print(danh_sach_lop)\n",
    "\n",
    "danh_sach_lop.append('Gina')\n",
    "print(danh_sach_lop)\n",
    "\n",
    "danh_sach_lop.extend(hoc_sinh_moi)\n",
    "print(danh_sach_lop)\n",
    "\n",
    "danh_sach_lop.pop() #xóa phần tử cuối cùng trong list\n",
    "print(danh_sach_lop)"
   ]
  },
  {
   "cell_type": "markdown",
   "metadata": {},
   "source": [
    "### Kiểm tra phần tử tồn tại trong list"
   ]
  },
  {
   "cell_type": "code",
   "execution_count": null,
   "metadata": {},
   "outputs": [],
   "source": []
  },
  {
   "cell_type": "markdown",
   "metadata": {},
   "source": [
    "### Xóa phần tử khỏi list"
   ]
  },
  {
   "cell_type": "code",
   "execution_count": 13,
   "metadata": {
    "scrolled": true
   },
   "outputs": [
    {
     "name": "stdout",
     "output_type": "stream",
     "text": [
      "[7, 10, 2, 13, 14, 15, 5, 15]\n"
     ]
    }
   ],
   "source": [
    "L = [15,7,10,2,13,14,15,5,15]\n",
    "\n",
    "L.remove(15)\n",
    "\n",
    "print(L)"
   ]
  },
  {
   "cell_type": "code",
   "execution_count": 25,
   "metadata": {},
   "outputs": [
    {
     "name": "stdout",
     "output_type": "stream",
     "text": [
      "Nhập số nguyên: 15\n",
      "[7, 10, 2, 13, 14, 5]\n"
     ]
    }
   ],
   "source": [
    "L = [15, 15,7,10,2,13,14,15,5,15]\n",
    "x = int(input(\"Nhập số nguyên: \"))\n",
    "\n",
    "while x in L:\n",
    "    L.remove(x)\n",
    "print(L)"
   ]
  },
  {
   "cell_type": "markdown",
   "metadata": {},
   "source": [
    "### Sắp xếp list"
   ]
  },
  {
   "cell_type": "code",
   "execution_count": 26,
   "metadata": {},
   "outputs": [
    {
     "name": "stdout",
     "output_type": "stream",
     "text": [
      "[2, 5, 7, 10, 13, 14, 15, 15, 15, 15]\n"
     ]
    }
   ],
   "source": [
    "L = [15, 15,7,10,2,13,14,15,5,15]\n",
    "\n",
    "L.sort()\n",
    "print(L)"
   ]
  },
  {
   "cell_type": "code",
   "execution_count": 27,
   "metadata": {},
   "outputs": [
    {
     "name": "stdout",
     "output_type": "stream",
     "text": [
      "[15, 15, 15, 15, 14, 13, 10, 7, 5, 2]\n"
     ]
    }
   ],
   "source": [
    "#Sắp xếp ngược lại:\n",
    "\n",
    "L = [15, 15,7,10,2,13,14,15,5,15]\n",
    "\n",
    "L.sort(reverse = True)\n",
    "print(L)"
   ]
  },
  {
   "cell_type": "markdown",
   "metadata": {},
   "source": [
    "### Làm rỗng list"
   ]
  },
  {
   "cell_type": "code",
   "execution_count": 28,
   "metadata": {},
   "outputs": [
    {
     "name": "stdout",
     "output_type": "stream",
     "text": [
      "[]\n"
     ]
    }
   ],
   "source": [
    "L = [15, 15,7,10,2,13,14,15,5,15]\n",
    "\n",
    "L.clear()\n",
    "print(L)"
   ]
  },
  {
   "cell_type": "markdown",
   "metadata": {},
   "source": [
    "### Copy list"
   ]
  },
  {
   "cell_type": "code",
   "execution_count": null,
   "metadata": {},
   "outputs": [],
   "source": [
    "L = [3, 7, 10]"
   ]
  },
  {
   "cell_type": "code",
   "execution_count": 32,
   "metadata": {},
   "outputs": [
    {
     "name": "stdout",
     "output_type": "stream",
     "text": [
      "117 14.625\n"
     ]
    }
   ],
   "source": [
    "L = [3,7,10,15,20,50,7,5]\n",
    "\n",
    "total = 0\n",
    "\n",
    "for i in L:\n",
    "    total += i\n",
    "    \n",
    "average = total / len(L)\n",
    "print(total, average)"
   ]
  },
  {
   "cell_type": "markdown",
   "metadata": {},
   "source": [
    "## tuple"
   ]
  },
  {
   "cell_type": "code",
   "execution_count": 4,
   "metadata": {},
   "outputs": [
    {
     "name": "stdout",
     "output_type": "stream",
     "text": [
      "Python\n",
      "3-5-7\n",
      "2\n"
     ]
    }
   ],
   "source": [
    "info = (\"Python\", \"3-5-7\", 2) #tuple không chỉnh sửa giá trị được\n",
    "\n",
    "#unpack tuple\n",
    "course_name, day, duration = info\n",
    "print(course_name)\n",
    "print(day)\n",
    "print(duration)"
   ]
  }
 ],
 "metadata": {
  "kernelspec": {
   "display_name": "Python 3 (ipykernel)",
   "language": "python",
   "name": "python3"
  },
  "language_info": {
   "codemirror_mode": {
    "name": "ipython",
    "version": 3
   },
   "file_extension": ".py",
   "mimetype": "text/x-python",
   "name": "python",
   "nbconvert_exporter": "python",
   "pygments_lexer": "ipython3",
   "version": "3.11.0"
  }
 },
 "nbformat": 4,
 "nbformat_minor": 4
}
