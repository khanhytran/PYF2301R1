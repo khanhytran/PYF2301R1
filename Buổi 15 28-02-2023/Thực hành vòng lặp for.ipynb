{
 "cells": [
  {
   "cell_type": "code",
   "execution_count": null,
   "id": "7c279d99",
   "metadata": {},
   "outputs": [],
   "source": [
    "'''\n",
    "Warm-up: In ra 10 số tự nhiên đầu tiên từ 1 đến 10\n",
    "'''\n",
    "\n",
    "for i in range (1,10+1):\n",
    "    print(i)"
   ]
  },
  {
   "cell_type": "code",
   "execution_count": 50,
   "id": "66918d7e",
   "metadata": {
    "scrolled": true
   },
   "outputs": [
    {
     "name": "stdout",
     "output_type": "stream",
     "text": [
      "Nhập số nguyên dương n: 10\n",
      "Tổng số tự nhiên là: 55\n"
     ]
    }
   ],
   "source": [
    "'''\n",
    "Bài 1: Nhập vào số nguyên dương n. Tính tổng các số tự nhiên từ 1 đến n.\n",
    "'''\n",
    "n = int(input(\"Nhập số nguyên dương n: \"))\n",
    "total = 0\n",
    "\n",
    "for i in range(1,n+1):\n",
    "    total += i\n",
    "    \n",
    "print(f\"Tổng số tự nhiên là: {total}\")"
   ]
  },
  {
   "cell_type": "code",
   "execution_count": 15,
   "id": "be255bdc",
   "metadata": {},
   "outputs": [
    {
     "name": "stdout",
     "output_type": "stream",
     "text": [
      "Nhập số nguyên dương n: 6\n",
      "6 x 1 = 6\n",
      "6 x 2 = 12\n",
      "6 x 3 = 18\n",
      "6 x 4 = 24\n",
      "6 x 5 = 30\n",
      "6 x 6 = 36\n",
      "6 x 7 = 42\n",
      "6 x 8 = 48\n",
      "6 x 9 = 54\n",
      "6 x 10 = 60\n"
     ]
    }
   ],
   "source": [
    "'''\n",
    "Bài 2: Nhập vào số nguyên dương n. In ra bảng cửu chương từ 1 đến 10 của n.\n",
    "'''\n",
    "n = int(input(\"Nhập số nguyên dương n: \"))\n",
    "\n",
    "for i in range(1, 10+1):\n",
    "    total = n * i\n",
    "    print(f\"{n} x {i} = {total}\")"
   ]
  },
  {
   "cell_type": "code",
   "execution_count": 58,
   "id": "681c029c",
   "metadata": {},
   "outputs": [
    {
     "name": "stdout",
     "output_type": "stream",
     "text": [
      "Nhập số nguyên n: 12423532\n",
      "Số 12423532 có 8 chữ số\n"
     ]
    }
   ],
   "source": [
    "'''\n",
    "Bài 3: Nhập vào số nguyên dương n. Đếm xem n có bao nhiêu chữ số.\n",
    "'''\n",
    "number = str(input(\"Nhập số nguyên n: \"))\n",
    "count = 0\n",
    "for i in number:\n",
    "    count += 1\n",
    "print(f\"Số {number} có {count} chữ số\")"
   ]
  },
  {
   "cell_type": "code",
   "execution_count": 54,
   "id": "7eb58122",
   "metadata": {},
   "outputs": [
    {
     "name": "stdout",
     "output_type": "stream",
     "text": [
      "Nhập số nguyên n: 2345\n",
      "Tổng các chữ số 2345 là: 14\n"
     ]
    }
   ],
   "source": [
    "'''\n",
    "Bài 4: Nhập vào số nguyên dương n. Tính tổng các chữ số của n.\n",
    "'''\n",
    "number = input(\"Nhập số nguyên n: \")\n",
    "total = 0\n",
    "for i in number:\n",
    "    total += int(i)\n",
    "print(f\"Tổng các chữ số {number} là: {total}\")"
   ]
  },
  {
   "cell_type": "code",
   "execution_count": 10,
   "id": "cf0da697",
   "metadata": {},
   "outputs": [
    {
     "name": "stdout",
     "output_type": "stream",
     "text": [
      "Nhập số nguyên dương n: 5\n",
      "1 \n",
      "1 2 \n",
      "1 2 3 \n",
      "1 2 3 4 \n",
      "1 2 3 4 5 \n"
     ]
    }
   ],
   "source": [
    "'''\n",
    "Bài 5: Nhập vào số nguyên dương n. Sử dụng cấu trúc vòng lặp lồng nhau(nested for loop) để in ra tam giác có dạng như sau:\n",
    "1\n",
    "1 2\n",
    "1 2 3\n",
    "1 2 3 4\n",
    "1 2 3 4 5\n",
    "'''\n",
    "height = int(input(\"Nhập số nguyên dương n: \"))\n",
    "for i in range(1, height+1):\n",
    "    for j in range(1, i+1):\n",
    "        print(j, end=\" \")\n",
    "    print()"
   ]
  },
  {
   "cell_type": "code",
   "execution_count": 4,
   "id": "1ac5d880",
   "metadata": {},
   "outputs": [
    {
     "name": "stdout",
     "output_type": "stream",
     "text": [
      "Nhập số nguyên dương n: 6\n",
      "1 2 3 4 5 6 \n",
      "1 2 3 4 5 \n",
      "1 2 3 4 \n",
      "1 2 3 \n",
      "1 2 \n",
      "1 \n"
     ]
    }
   ],
   "source": [
    "'''\n",
    "Bài 6: Nhập vào số nguyên dương n. Sử dụng cấu trúc vòng lặp lồng nhau(nested for loop) để in ra tam giác có dạng như sau:\n",
    "5 4 3 2 1\n",
    "4 3 2 1\n",
    "3 2 1\n",
    "2 1\n",
    "1\n",
    "'''\n",
    "height = int(input(\"Nhập số nguyên dương n: \"))\n",
    "for i in range(height, 0, -1):\n",
    "    for j in range(1, i+1):\n",
    "        print(j, end=\" \")\n",
    "    print()"
   ]
  },
  {
   "cell_type": "code",
   "execution_count": 24,
   "id": "5a16aa66",
   "metadata": {},
   "outputs": [
    {
     "name": "stdout",
     "output_type": "stream",
     "text": [
      "Nhập số nguyên dương n: 5\n",
      "5! = 120\n"
     ]
    }
   ],
   "source": [
    "'''\n",
    "Bài 7: Nhập vào một số nguyên dương n. Tính giai thừa của n.\n",
    "Note: Giai thừa của n được tính bằng công thức: n! = n*(n - 1)*(n - 2)*...*1\n",
    "Ví dụ: 5! = 5 × 4 × 3 × 2 × 1 = 120\n",
    "'''\n",
    "\n",
    "n = int(input(\"Nhập số nguyên dương n: \"))\n",
    "total = 1\n",
    "\n",
    "for i in range(n, 0, -1):\n",
    "    total *= i\n",
    "print(f\"{n}! = {total}\")"
   ]
  },
  {
   "cell_type": "code",
   "execution_count": 89,
   "id": "8dfa4890",
   "metadata": {},
   "outputs": [
    {
     "name": "stdout",
     "output_type": "stream",
     "text": [
      "Nhập số nguyên dương nào đó: 243424\n",
      "Số đảo ngược của 243424 là 424342\n"
     ]
    }
   ],
   "source": [
    "'''\n",
    "Bài 8: Viết chương trình nhập vào một số nguyên dương n và in ra số đảo ngược của n.\n",
    "Ví dụ:\n",
    "Input: 76542\n",
    "Output: 24567\n",
    "'''\n",
    "number = input(\"Nhập số nguyên dương nào đó: \")\n",
    "text = ''\n",
    "for i in number:\n",
    "    text = i + text\n",
    "print(f\"Số đảo ngược của {number} là: {text}\")"
   ]
  },
  {
   "cell_type": "code",
   "execution_count": 61,
   "id": "326700db",
   "metadata": {},
   "outputs": [
    {
     "name": "stdout",
     "output_type": "stream",
     "text": [
      "1\n",
      "22\n",
      "333\n",
      "4444\n",
      "55555\n",
      "666666\n",
      "7777777\n",
      "88888888\n",
      "999999999\n"
     ]
    }
   ],
   "source": [
    "'''\n",
    "Bài 9: Viết phần mềm nhập vào số n (từ 1 đến 9) và in ra tam giác có dạng như sau:\n",
    "1\n",
    "22\n",
    "333\n",
    "4444\n",
    "55555\n",
    "666666\n",
    "7777777\n",
    "88888888\n",
    "999999999\n",
    "'''\n",
    "for i in range(1, 9+1):\n",
    "    for j in range(1,i+1):\n",
    "        print(i, end=\"\")\n",
    "    print()"
   ]
  },
  {
   "cell_type": "code",
   "execution_count": 57,
   "id": "72a87d61",
   "metadata": {},
   "outputs": [
    {
     "name": "stdout",
     "output_type": "stream",
     "text": [
      "4"
     ]
    }
   ],
   "source": [
    "'''\n",
    "Bài 10: Nhập vào một câu nói (mỗi từ cách nhau một khoảng trắng, không có dấu phẩy, chấm), hãy tách từng từ trong chuỗi ra rồi in lên màn hình. Mỗi từ in kèm với độ dài cửa từ đó\n",
    "\n",
    "Ví dụ:\n",
    "\n",
    "Nhập: Xin chào\n",
    "\n",
    "In:\n",
    "\n",
    "Xin 3\n",
    "\n",
    "Chào 4\n",
    "'''\n",
    "\n",
    "text = 'xin chào'\n",
    "count = 0\n",
    "\n"
   ]
  },
  {
   "cell_type": "code",
   "execution_count": 12,
   "id": "48421f26",
   "metadata": {},
   "outputs": [
    {
     "name": "stdout",
     "output_type": "stream",
     "text": [
      "Nhập một chuỗi có 2 số nguyên: 3,6\n",
      "9\n"
     ]
    }
   ],
   "source": [
    "'''\n",
    "Bài 11: Nhập vào một chuỗi có 2 số nguyên, mỗi số cách nhau một dấu phẩy, hãy tính tổng của hai số đó\n",
    "\n",
    "Ví dụ:\n",
    "\n",
    "Nhập: 2,3 In: 5\n",
    "'''\n",
    "\n",
    "n = input(\"Nhập một chuỗi có 2 số nguyên: \")\n",
    "total = 0\n",
    "for i in n:\n",
    "    if i == \",\":\n",
    "        continue\n",
    "    total += int(i)\n",
    "print(total)"
   ]
  },
  {
   "cell_type": "code",
   "execution_count": 3,
   "id": "d878c81a",
   "metadata": {},
   "outputs": [
    {
     "name": "stdout",
     "output_type": "stream",
     "text": [
      "Nhập dãy số nguyên n: 1426\n",
      "Dãy số 1426 có 3 chữ số chẵn\n"
     ]
    }
   ],
   "source": [
    "'''\n",
    "Bài 12: Nhập vào một chuỗi, hãy cho biết trong chuỗi đó có bao nhiêu chữ số chẵn.\n",
    "'''\n",
    "\n",
    "number = int(input(\"Nhập dãy số nguyên n: \"))\n",
    "count = 0\n",
    "for i in str(number):\n",
    "    if int(i) % 2 == 0:\n",
    "        count += 1\n",
    "print(f\"Dãy số {number} có {count} chữ số chẵn\")"
   ]
  },
  {
   "cell_type": "code",
   "execution_count": null,
   "id": "86ef2a9a",
   "metadata": {},
   "outputs": [],
   "source": [
    "'''\n",
    "Bài 13: Cần có tổng 200.000đ từ 3 loại giấy bạc 1000đ, 2000đ, và 5000đ. Lập \n",
    "chương tình để tìm tất cả các phương án có thể.\n",
    "'''"
   ]
  },
  {
   "cell_type": "code",
   "execution_count": null,
   "id": "1f75570f",
   "metadata": {},
   "outputs": [],
   "source": [
    "'''\n",
    "Bài 14: Nhập vào một chuỗi s chỉ chứa các ký tự '(', ')', '{', '}', '[' và ']', \n",
    "xác định xem chuỗi s có hợp lệ hay không.\n",
    "\n",
    "Chuỗi đầu vào hợp lệ nếu:\n",
    "\n",
    "- Các dấu ngoặc mở phải được đóng bằng cùng một loại dấu ngoặc.\n",
    "- Dấu ngoặc mở phải được đóng theo đúng thứ tự.\n",
    "- Mọi dấu ngoặc đóng đều có một dấu ngoặc mở tương ứng cùng loại.\n",
    "\n",
    "Ví dụ 1:\n",
    "Input: s = \"()\"\n",
    "Output: True\n",
    "\n",
    "Ví dụ 2:\n",
    "Input: s = \"() [] {}\"\n",
    "Output: True\n",
    "\n",
    "Ví dụ 3:\n",
    "Input: s = \"(]\"\n",
    "Output: False\n",
    "'''"
   ]
  },
  {
   "cell_type": "code",
   "execution_count": null,
   "id": "1cc7ea23",
   "metadata": {},
   "outputs": [],
   "source": [
    "'''\n",
    "Bài 15: Roman to Integer\n",
    "Chữ số La Mã được thể hiện bằng bảy ký hiệu khác nhau: I, V, X, L, C, D và M.\n",
    "\n",
    "Symbol       Value\n",
    "I             1\n",
    "V             5\n",
    "X             10\n",
    "L             50\n",
    "C             100\n",
    "D             500\n",
    "M             1000\n",
    "\n",
    "Ví dụ: 2 được viết là II bằng số La Mã, chỉ là hai cái được cộng lại với nhau. \n",
    "12 được viết là XII, đơn giản là X + II. Con số 27 được viết là XXVII, là XX + V + II.\n",
    "\n",
    "Chữ số La mã thường được viết từ lớn nhất đến nhỏ nhất từ trái sang phải. \n",
    "Tuy nhiên, chữ số cho bốn không phải là IIII. Thay vào đó, số bốn được viết là IV. \n",
    "Bởi vì cái đứng trước năm, chúng ta trừ nó ra làm bốn. Nguyên tắc tương tự cũng áp dụng cho số chín, \n",
    "được viết là IX. Có sáu trường hợp phép trừ được sử dụng:\n",
    "\n",
    "I có thể được đặt trước V (5) và X (10) để tạo thành 4 và 9.\n",
    "X có thể được đặt trước L (50) và C (100) để tạo ra 40 và 90.\n",
    "C có thể được đặt trước D (500) và M (1000) để tạo thành 400 và 900.\n",
    "Nhập vào một chuỗi đại diện cho một số La Mã, hãy chuyển nó thành một số nguyên.\n",
    "\n",
    "Ví dụ 1:\n",
    "Input: s = \"III\"\n",
    "Output: 3\n",
    "Explanation: III = 3.\n",
    "\n",
    "Ví dụ 2:\n",
    "Input: s = \"LVIII\"\n",
    "Output: 58\n",
    "Explanation: L = 50, V= 5, III = 3.\n",
    "\n",
    "Ví dụ 3:\n",
    "Input: s = \"MCMXCIV\"\n",
    "Output: 1994\n",
    "Explanation: M = 1000, CM = 900, XC = 90 and IV = 4.\n",
    "'''"
   ]
  },
  {
   "cell_type": "code",
   "execution_count": null,
   "id": "bfe2e17f",
   "metadata": {},
   "outputs": [],
   "source": [
    "'''\n",
    "Bonus: Vẽ xe lửa\n",
    "What is the size of your train? 1\n",
    " ______________________>__\n",
    "|]||[]_[]_[]|||[]_[]_[]||[|\n",
    "\\==o-o======o-o======o-o==/\n",
    "\n",
    "What is the size of your train? 2\n",
    " _________________________   ______________________>__\n",
    "|]||[]_[]_[]|||[]_[]_[]||[| |]||[]_[]_[]|||[]_[]_[]||[|\n",
    "\\==o-o======o-o======o-o==/_\\==o-o======o-o======o-o==/\n",
    "'''"
   ]
  }
 ],
 "metadata": {
  "kernelspec": {
   "display_name": "Python 3 (ipykernel)",
   "language": "python",
   "name": "python3"
  },
  "language_info": {
   "codemirror_mode": {
    "name": "ipython",
    "version": 3
   },
   "file_extension": ".py",
   "mimetype": "text/x-python",
   "name": "python",
   "nbconvert_exporter": "python",
   "pygments_lexer": "ipython3",
   "version": "3.11.0"
  }
 },
 "nbformat": 4,
 "nbformat_minor": 5
}
