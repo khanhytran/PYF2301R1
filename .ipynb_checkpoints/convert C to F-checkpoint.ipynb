{
 "cells": [
  {
   "cell_type": "code",
   "execution_count": 3,
   "id": "cd17b5c9",
   "metadata": {},
   "outputs": [
    {
     "name": "stdout",
     "output_type": "stream",
     "text": [
      "Nhập nhiệt độ theo độ C:32\n",
      "Nhiệt độ theo độ F là:  89.6\n"
     ]
    }
   ],
   "source": [
    "#Nhập độ C cần đổi\n",
    "C = input (\"Nhập nhiệt độ theo độ C:\")\n",
    "\n",
    "#Phép tính chuyển đổi độ C sang F\n",
    "F = (9*int(C))/5 + 32\n",
    "\n",
    "#Thể hiện F\n",
    "print(\"Nhiệt độ theo độ F là: \", F)"
   ]
  }
 ],
 "metadata": {
  "kernelspec": {
   "display_name": "Python 3 (ipykernel)",
   "language": "python",
   "name": "python3"
  },
  "language_info": {
   "codemirror_mode": {
    "name": "ipython",
    "version": 3
   },
   "file_extension": ".py",
   "mimetype": "text/x-python",
   "name": "python",
   "nbconvert_exporter": "python",
   "pygments_lexer": "ipython3",
   "version": "3.11.0"
  }
 },
 "nbformat": 4,
 "nbformat_minor": 5
}
