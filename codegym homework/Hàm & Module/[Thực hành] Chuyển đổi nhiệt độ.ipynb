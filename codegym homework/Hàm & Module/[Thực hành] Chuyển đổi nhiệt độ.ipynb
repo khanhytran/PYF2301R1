{
 "cells": [
  {
   "cell_type": "code",
   "execution_count": null,
   "id": "6b96c5d8",
   "metadata": {},
   "outputs": [],
   "source": [
    "def trans(f):\n",
    "    \"\"\"Hàm chuyển đổi độ Fahrenheit sang độ Celsius\n",
    "    f - giá trị độ F\n",
    "    \"\"\"\n",
    "    # Vì nhiệt độ đông của nước trong thang đo Fahrenheit là 32\n",
    "    # và trong thang đo Celsius là 0,\n",
    "    # bước 1: chuyển đổi giá trị bằng cách lấy độ Fahrenheit trừ 32\n",
    "    # Khoảng cách từ điểm đông đến điểm sôi của nước trong thang đo Celsius là 0-100,\n",
    "    # còn trong thang đo Fahrenheit là 32-212.\n",
    "    # Điều đó có thể hiểu là khoảng cách 180° trong thang đo Fahrenheit\n",
    "    # tương đương 100° trong thang đo Celsius.\n",
    "    # Như vậy, bạn sẽ có tỷ lệ 180/100, sau khi tối giản phân số còn 1,8\n",
    "    # Bước 2: lấy kết quả bước 1 chia cho 1.8, kết quả thu được là độ Celsius\n",
    "    \n",
    "    return (f - 32) / 1.8\n",
    "\n",
    "print(trans(74))\n",
    "print(trans(100))\n",
    "print(trans(32))"
   ]
  }
 ],
 "metadata": {
  "kernelspec": {
   "display_name": "Python 3 (ipykernel)",
   "language": "python",
   "name": "python3"
  },
  "language_info": {
   "codemirror_mode": {
    "name": "ipython",
    "version": 3
   },
   "file_extension": ".py",
   "mimetype": "text/x-python",
   "name": "python",
   "nbconvert_exporter": "python",
   "pygments_lexer": "ipython3",
   "version": "3.11.0"
  }
 },
 "nbformat": 4,
 "nbformat_minor": 5
}
