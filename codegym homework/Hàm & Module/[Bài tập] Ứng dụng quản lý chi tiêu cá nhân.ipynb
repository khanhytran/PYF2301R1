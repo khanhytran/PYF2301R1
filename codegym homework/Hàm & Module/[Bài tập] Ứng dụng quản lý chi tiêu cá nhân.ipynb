{
 "cells": [
  {
   "cell_type": "code",
   "execution_count": 3,
   "id": "d1d7c8f3",
   "metadata": {},
   "outputs": [
    {
     "name": "stdout",
     "output_type": "stream",
     "text": [
      "Select option 1 or 2: 1\n",
      "Item name: note\n",
      "Item cost: 1200\n",
      "Date: 13/02/2023\n"
     ]
    },
    {
     "ename": "NameError",
     "evalue": "name 'expenses' is not defined",
     "output_type": "error",
     "traceback": [
      "\u001b[1;31m---------------------------------------------------------------------------\u001b[0m",
      "\u001b[1;31mNameError\u001b[0m                                 Traceback (most recent call last)",
      "Cell \u001b[1;32mIn[3], line 29\u001b[0m\n\u001b[0;32m     27\u001b[0m     date_input \u001b[38;5;241m=\u001b[39m \u001b[38;5;28minput\u001b[39m(\u001b[38;5;124m\"\u001b[39m\u001b[38;5;124mDate: \u001b[39m\u001b[38;5;124m\"\u001b[39m)\n\u001b[0;32m     28\u001b[0m     item \u001b[38;5;241m=\u001b[39m {\u001b[38;5;124m'\u001b[39m\u001b[38;5;124mname\u001b[39m\u001b[38;5;124m'\u001b[39m: name_input, \u001b[38;5;124m'\u001b[39m\u001b[38;5;124mcost\u001b[39m\u001b[38;5;124m'\u001b[39m:cost_input, \u001b[38;5;124m'\u001b[39m\u001b[38;5;124mdate\u001b[39m\u001b[38;5;124m'\u001b[39m:date_input}\n\u001b[1;32m---> 29\u001b[0m     add_item(\u001b[43mexpenses\u001b[49m, item)\n\u001b[0;32m     30\u001b[0m     \u001b[38;5;28mprint\u001b[39m(\u001b[38;5;124m\"\u001b[39m\u001b[38;5;124mYour expenses: \u001b[39m\u001b[38;5;124m\"\u001b[39m, expenses)\n\u001b[0;32m     31\u001b[0m \u001b[38;5;28;01melif\u001b[39;00m option \u001b[38;5;241m==\u001b[39m \u001b[38;5;241m2\u001b[39m:\n",
      "\u001b[1;31mNameError\u001b[0m: name 'expenses' is not defined"
     ]
    }
   ],
   "source": [
    "#Bước 1: Khởi tạo hàm nhận hai tham số\n",
    "def add_item(myTempList, item):\n",
    "    myTempList.append(item)\n",
    "    \n",
    "#Bước 2: Khởi tạo hàm tìm index phần tử trong mảng\n",
    "def find_index_item(myTempList, item_name):\n",
    "    result = -1\n",
    "    length = len(myTempList)\n",
    "    for i in range(length):\n",
    "        if myTempList[i] ['name'] == item_name:\n",
    "            result = 1\n",
    "    return result\n",
    "\n",
    "#Bước 3: Khởi tạo hàm xóa phần tử khỏi mảng chi tiêu\n",
    "def remove_item(myTempList, item_name):\n",
    "    if find_index_item(myTempList, item_name) > -1:\n",
    "        del myTempList[find_index_item(myTempList, item_name)]\n",
    "    else:\n",
    "        print(item_name + \"not in list\")\n",
    "        \n",
    "#Bước 4: In mảng chi tiêu hiện tại và muốn thêm hay xóa\n",
    "option = int(input(\"Select option 1 or 2: \"))\n",
    "name_input = input(\"Item name: \")\n",
    "\n",
    "if option == 1:\n",
    "    cost_input = int(input(\"Item cost: \"))\n",
    "    date_input = input(\"Date: \")\n",
    "    item = {'name': name_input, 'cost':cost_input, 'date':date_input}\n",
    "    add_item(expenses, item)\n",
    "    print(\"Your expenses: \", expenses)\n",
    "elif option == 2:\n",
    "    remove_item(expenses, name_input)\n",
    "    print(\"Your expenses: \", expenses)\n",
    "else:\n",
    "    print(\"Invalid input\")"
   ]
  }
 ],
 "metadata": {
  "kernelspec": {
   "display_name": "Python 3 (ipykernel)",
   "language": "python",
   "name": "python3"
  },
  "language_info": {
   "codemirror_mode": {
    "name": "ipython",
    "version": 3
   },
   "file_extension": ".py",
   "mimetype": "text/x-python",
   "name": "python",
   "nbconvert_exporter": "python",
   "pygments_lexer": "ipython3",
   "version": "3.11.0"
  }
 },
 "nbformat": 4,
 "nbformat_minor": 5
}
