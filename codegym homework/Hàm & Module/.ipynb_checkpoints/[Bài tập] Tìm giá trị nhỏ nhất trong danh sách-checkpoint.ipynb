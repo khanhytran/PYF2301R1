{
 "cells": [
  {
   "cell_type": "code",
   "execution_count": 3,
   "id": "891e860d",
   "metadata": {},
   "outputs": [
    {
     "name": "stdout",
     "output_type": "stream",
     "text": [
      "Min number: 10\n"
     ]
    }
   ],
   "source": [
    "def get_min_numbers(numbers):\n",
    "    result = numbers[0]\n",
    "    for num in numbers:\n",
    "        if result > num:\n",
    "            result = num\n",
    "    return result\n",
    "\n",
    "#Gọi hàm:\n",
    "list1 = [30, 29, 10]\n",
    "\n",
    "min_number = get_min_numbers(list1)\n",
    "print(f\"Min number: {min_number}\")"
   ]
  }
 ],
 "metadata": {
  "kernelspec": {
   "display_name": "Python 3 (ipykernel)",
   "language": "python",
   "name": "python3"
  },
  "language_info": {
   "codemirror_mode": {
    "name": "ipython",
    "version": 3
   },
   "file_extension": ".py",
   "mimetype": "text/x-python",
   "name": "python",
   "nbconvert_exporter": "python",
   "pygments_lexer": "ipython3",
   "version": "3.11.0"
  }
 },
 "nbformat": 4,
 "nbformat_minor": 5
}
