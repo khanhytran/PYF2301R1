{
 "cells": [
  {
   "cell_type": "code",
   "execution_count": null,
   "id": "66fc4f72",
   "metadata": {},
   "outputs": [],
   "source": [
    "# Bước 1: Import thư viện turtle\n",
    "import turtle\n",
    "\n",
    "#Bước 2: Tạo đối tượng turtle\n",
    "t = turtle.Turtle()\n",
    "t.hideturtle()\n",
    "t.pencolor('red')\n",
    "\n",
    "#Bước 3: Xây dựng hàm\n",
    "def square_draw(w):\n",
    "    for i in range(4):\n",
    "        t.forward(w)\n",
    "        t.right(90)\n",
    "    turtle.done()\n",
    "\n",
    "#Bước 4: Gọi hàm\n",
    "square_draw(100)"
   ]
  }
 ],
 "metadata": {
  "kernelspec": {
   "display_name": "Python 3 (ipykernel)",
   "language": "python",
   "name": "python3"
  },
  "language_info": {
   "codemirror_mode": {
    "name": "ipython",
    "version": 3
   },
   "file_extension": ".py",
   "mimetype": "text/x-python",
   "name": "python",
   "nbconvert_exporter": "python",
   "pygments_lexer": "ipython3",
   "version": "3.11.0"
  }
 },
 "nbformat": 4,
 "nbformat_minor": 5
}
