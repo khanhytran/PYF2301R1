{
 "cells": [
  {
   "cell_type": "code",
   "execution_count": 5,
   "id": "16a9f02a",
   "metadata": {},
   "outputs": [
    {
     "name": "stdout",
     "output_type": "stream",
     "text": [
      "Nhập vào bán kính: 100\n",
      "Diện tích của hình tròn có bán kính = 100.0 là: 31415.926535897932\n"
     ]
    }
   ],
   "source": [
    "import turtle\n",
    "import math\n",
    "\n",
    "def draw(r):\n",
    "    '''Hàm vẽ hình tròn với bán kính r'''\n",
    "    t = turtle.Turtle()\n",
    "    t.hideturtle()\n",
    "    t.pencolor('red')\n",
    "    t.circle(r)\n",
    "    turtle.done()\n",
    "    \n",
    "def area(r):\n",
    "    '''Hàm tính diện tích hình tròn với bán kính r'''\n",
    "    return math.pi * r * r\n",
    "\n",
    "r = float(input(\"Nhập vào bán kính: \"))\n",
    "draw(r)\n",
    "s = area(r)\n",
    "print(\"Diện tích của hình tròn có bán kính = {} là: {}\".format(r, s))"
   ]
  }
 ],
 "metadata": {
  "kernelspec": {
   "display_name": "Python 3 (ipykernel)",
   "language": "python",
   "name": "python3"
  },
  "language_info": {
   "codemirror_mode": {
    "name": "ipython",
    "version": 3
   },
   "file_extension": ".py",
   "mimetype": "text/x-python",
   "name": "python",
   "nbconvert_exporter": "python",
   "pygments_lexer": "ipython3",
   "version": "3.11.0"
  }
 },
 "nbformat": 4,
 "nbformat_minor": 5
}
