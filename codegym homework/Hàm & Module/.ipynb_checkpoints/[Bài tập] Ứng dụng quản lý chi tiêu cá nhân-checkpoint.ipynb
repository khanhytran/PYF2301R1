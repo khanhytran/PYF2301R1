{
 "cells": [
  {
   "cell_type": "code",
   "execution_count": 1,
   "id": "d1d7c8f3",
   "metadata": {},
   "outputs": [
    {
     "name": "stdout",
     "output_type": "stream",
     "text": [
      "Select option 1 or 2: 1\n",
      "Enter name: brush\n",
      "Enter cost: 5000\n",
      "Enter date: 23-01-2021\n",
      "Your expenses: [{'name': 'brush', 'cost': '5000', 'date': '23-01-2021'}]\n",
      "Your expenses: [{'name': 'brush', 'cost': '5000', 'date': '23-01-2021'}]\n",
      "What do you want to do? -\n",
      "1. Add\n",
      "2. Remove\n"
     ]
    }
   ],
   "source": [
    "expenses = [] # Khởi tạo một mảng rỗng\n",
    "\n",
    "def add_item(expenses, item):    \n",
    "    expenses.append(item)\n",
    "\n",
    "def find_index_item(expenses, item_name):\n",
    "    result = -1\n",
    "    length = len(expenses)\n",
    "    for i in range(length):\n",
    "        if expenses[i]['name'] == item_name:\n",
    "            result = i\n",
    "    return result\n",
    "\n",
    "def remove_item(expenses, item_name):\n",
    "    if find_index_item(expenses, item_name) > -1:\n",
    "        del expenses[find_index_item(expenses, item_name)]\n",
    "    else:\n",
    "        print(item_name + \" not in list\")\n",
    "\n",
    "# In ra mảng chi tiêu hiện tại\n",
    "print(\"Your expenses:\", expenses)\n",
    "\n",
    "# Lấy yêu cầu muốn thêm hay xoá của người dùng\n",
    "print(\"What do you want to do? -\\n\"\\\n",
    "        \"1. Add\\n\" \\\n",
    "        \"2. Remove\")\n",
    "option = int(input(\"Select option 1 or 2: \"))\n",
    "\n",
    "# Thêm hoặc xoá các mục chi tiêu\n",
    "if option == 1:\n",
    "    name = input(\"Enter name: \")\n",
    "    cost = input(\"Enter cost: \")\n",
    "    date = input(\"Enter date: \")\n",
    "    add_item(expenses, {\"name\": name, \"cost\": cost, \"date\": date})\n",
    "elif option == 2:\n",
    "    name = input(\"Enter name: \")\n",
    "    remove_item(expenses, name)\n",
    "else:\n",
    "    print(\"Invalid option\")\n",
    "\n",
    "# In ra mảng chi tiêu sau khi đã thêm hoặc xoá\n",
    "print(\"Your expenses:\", expenses)"
   ]
  }
 ],
 "metadata": {
  "kernelspec": {
   "display_name": "Python 3 (ipykernel)",
   "language": "python",
   "name": "python3"
  },
  "language_info": {
   "codemirror_mode": {
    "name": "ipython",
    "version": 3
   },
   "file_extension": ".py",
   "mimetype": "text/x-python",
   "name": "python",
   "nbconvert_exporter": "python",
   "pygments_lexer": "ipython3",
   "version": "3.11.0"
  }
 },
 "nbformat": 4,
 "nbformat_minor": 5
}
