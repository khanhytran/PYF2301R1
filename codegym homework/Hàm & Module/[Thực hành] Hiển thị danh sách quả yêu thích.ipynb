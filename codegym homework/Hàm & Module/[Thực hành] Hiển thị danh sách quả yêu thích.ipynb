{
 "cells": [
  {
   "cell_type": "code",
   "execution_count": 5,
   "id": "0993181e",
   "metadata": {},
   "outputs": [
    {
     "name": "stdout",
     "output_type": "stream",
     "text": [
      "Fruits inside funtion ['Orange', 'Apple', 'Grapes', 'Mango']\n"
     ]
    }
   ],
   "source": [
    "fruits = [\"Orange\", \"Apple\", \"Grapes\"]\n",
    "\n",
    "def add_fruit(fruits, fruit_to_add):\n",
    "    fruits.append(fruit_to_add)\n",
    "    print('Fruits inside funtion', fruits)\n",
    "    \n",
    "fruit_to_add = \"Mango\"\n",
    "add_fruit(fruits, fruit_to_add)\n",
    "print('Fruits outsite function', fruits)"
   ]
  }
 ],
 "metadata": {
  "kernelspec": {
   "display_name": "Python 3 (ipykernel)",
   "language": "python",
   "name": "python3"
  },
  "language_info": {
   "codemirror_mode": {
    "name": "ipython",
    "version": 3
   },
   "file_extension": ".py",
   "mimetype": "text/x-python",
   "name": "python",
   "nbconvert_exporter": "python",
   "pygments_lexer": "ipython3",
   "version": "3.11.0"
  }
 },
 "nbformat": 4,
 "nbformat_minor": 5
}
