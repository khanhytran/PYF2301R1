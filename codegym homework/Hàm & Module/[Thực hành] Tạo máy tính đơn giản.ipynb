{
 "cells": [
  {
   "cell_type": "code",
   "execution_count": null,
   "id": "725ddfcc",
   "metadata": {},
   "outputs": [],
   "source": [
    "def add(num1, num2):\n",
    "    return num1 + num2\n",
    "\n",
    "def subtract(num1, num2):\n",
    "    return num1 - num2\n",
    "\n",
    "def multiply(num1, num2):\n",
    "    return num1 * num2\n",
    "\n",
    "def divide(num1, num2):\n",
    "    return num1 / num2\n",
    "\n",
    "number_1 = int(input(\"Enter first number: \"))\n",
    "number_2 = int(input(\"Enter second number: \"))\n",
    "\n",
    "option = input(\"Enter the operation +, -, *, / : \")\n",
    "\n",
    "if option == '+':\n",
    "    print(number_1, \"+\", number_2 \"=\", add(number_1, number_2))\n",
    "elif option == '-':\n",
    "    print(number_1, \"+\", number_2 \"=\", subtract(number_1, number_2))\n",
    "elif option == '+':\n",
    "    print(number_1, \"*\", number_2 \"=\", multiply(number_1, number_2))\n",
    "elif option == '/':\n",
    "    print(number_1, \"/\", number_2 \"=\", divide(number_1, number_2))\n",
    "\n",
    "else:\n",
    "    print(\"Invalid input\")"
   ]
  }
 ],
 "metadata": {
  "kernelspec": {
   "display_name": "Python 3 (ipykernel)",
   "language": "python",
   "name": "python3"
  },
  "language_info": {
   "codemirror_mode": {
    "name": "ipython",
    "version": 3
   },
   "file_extension": ".py",
   "mimetype": "text/x-python",
   "name": "python",
   "nbconvert_exporter": "python",
   "pygments_lexer": "ipython3",
   "version": "3.11.0"
  }
 },
 "nbformat": 4,
 "nbformat_minor": 5
}
