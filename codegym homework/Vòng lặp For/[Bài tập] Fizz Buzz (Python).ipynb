{
 "cells": [
  {
   "cell_type": "code",
   "execution_count": 14,
   "id": "54ef893f",
   "metadata": {},
   "outputs": [
    {
     "name": "stdout",
     "output_type": "stream",
     "text": [
      "Nhập hai số bất kì: 50,1\n",
      "Số kết thúc cần lớn hơn số bắt đầu!\n"
     ]
    }
   ],
   "source": [
    "number = input(\"Nhập hai số bất kì: \")\n",
    "n = number.split(\",\")\n",
    "start = int(n[0])\n",
    "end = int(n[1])\n",
    "\n",
    "if start > end:\n",
    "    print(\"Số kết thúc cần lớn hơn số bắt đầu!\")\n",
    "else:\n",
    "    for i in range(start,end):\n",
    "        if i % 3 == 0 and i % 5 == 0:\n",
    "            print(\"FizzBuzz\")\n",
    "        elif i % 3 == 0:\n",
    "            print(\"Fizz\")\n",
    "        elif i % 5 == 0:\n",
    "            print(\"Buzz\")\n",
    "        else: print(i)"
   ]
  }
 ],
 "metadata": {
  "kernelspec": {
   "display_name": "Python 3 (ipykernel)",
   "language": "python",
   "name": "python3"
  },
  "language_info": {
   "codemirror_mode": {
    "name": "ipython",
    "version": 3
   },
   "file_extension": ".py",
   "mimetype": "text/x-python",
   "name": "python",
   "nbconvert_exporter": "python",
   "pygments_lexer": "ipython3",
   "version": "3.11.0"
  }
 },
 "nbformat": 4,
 "nbformat_minor": 5
}
