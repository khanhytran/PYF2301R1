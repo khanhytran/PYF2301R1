{
 "cells": [
  {
   "cell_type": "code",
   "execution_count": 5,
   "id": "d07b6f69",
   "metadata": {},
   "outputs": [
    {
     "name": "stdout",
     "output_type": "stream",
     "text": [
      "0\n"
     ]
    }
   ],
   "source": [
    "import random\n",
    "win = False\n",
    "current_number = 0\n",
    "\n",
    "current_player = random.randint(0,1)\n",
    "if current_player == 0:\n",
    "    current_player = \"human\"\n",
    "else:\n",
    "    current_player = \"computer\"\n",
    "    \n",
    "while current_number <= 21:\n",
    "    print(current_number)\n",
    "    if current_player == \"human\":\n",
    "        "
   ]
  }
 ],
 "metadata": {
  "kernelspec": {
   "display_name": "Python 3 (ipykernel)",
   "language": "python",
   "name": "python3"
  },
  "language_info": {
   "codemirror_mode": {
    "name": "ipython",
    "version": 3
   },
   "file_extension": ".py",
   "mimetype": "text/x-python",
   "name": "python",
   "nbconvert_exporter": "python",
   "pygments_lexer": "ipython3",
   "version": "3.11.0"
  }
 },
 "nbformat": 4,
 "nbformat_minor": 5
}
