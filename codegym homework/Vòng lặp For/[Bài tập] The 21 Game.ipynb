{
 "cells": [
  {
   "cell_type": "code",
   "execution_count": null,
   "id": "d07b6f69",
   "metadata": {},
   "outputs": [
    {
     "name": "stdout",
     "output_type": "stream",
     "text": [
      "The current number is 0\n",
      "Add 1, 2, or 3. 2\n",
      "The current number is 2\n",
      "The computer adds 3\n",
      "The current number is 5\n",
      "Add 1, 2, or 3. 3\n",
      "The current number is 8\n",
      "The computer adds 3\n",
      "The current number is 11\n",
      "Add 1, 2, or 3. 3\n",
      "The current number is 14\n",
      "The computer adds 3\n",
      "The current number is 17\n",
      "Add 1, 2, or 3. 3\n",
      "The current number is 20\n",
      "The computer adds 3\n",
      "The current number is 23. You win!\n",
      "Play again? (y/n)y\n",
      "The current number is 0\n",
      "The computer adds 3\n",
      "The current number is 3\n"
     ]
    }
   ],
   "source": [
    "from random import randint\n",
    "\n",
    "while True:\n",
    "    current_number = 0\n",
    "    current_player = \"computer\" if randint(0, 1) == 1 else \"human\"\n",
    "    \n",
    "    while current_number < 21:\n",
    "        print(f\"The current number is {current_number}\")\n",
    "        \n",
    "        if current_player == \"human\":\n",
    "            player_choice = \"\"\n",
    "            while player_choice not in [\"1\", \"2\", \"3\"]:\n",
    "                player_choice = input(\"Add 1, 2, or 3. \")\n",
    "            current_number += int(player_choice)\n",
    "            \n",
    "            if current_number >= 21:\n",
    "                print(f\"The current number is {current_number}. You lose!\")\n",
    "                break\n",
    "            \n",
    "            current_player = \"computer\"\n",
    "            \n",
    "        else:\n",
    "            computer_choice = randint(1, 3)\n",
    "            print(f\"The computer adds {computer_choice}\")\n",
    "            current_number += computer_choice\n",
    "            \n",
    "            if current_number >= 21:\n",
    "                print(f\"The current number is {current_number}. You win!\")\n",
    "                break\n",
    "                \n",
    "            current_player = \"human\"\n",
    "    \n",
    "    play_again = input(\"Play again? (y/n)\")\n",
    "    if play_again == \"y\":\n",
    "        continue\n",
    "    else:\n",
    "        break"
   ]
  }
 ],
 "metadata": {
  "kernelspec": {
   "display_name": "Python 3 (ipykernel)",
   "language": "python",
   "name": "python3"
  },
  "language_info": {
   "codemirror_mode": {
    "name": "ipython",
    "version": 3
   },
   "file_extension": ".py",
   "mimetype": "text/x-python",
   "name": "python",
   "nbconvert_exporter": "python",
   "pygments_lexer": "ipython3",
   "version": "3.11.0"
  }
 },
 "nbformat": 4,
 "nbformat_minor": 5
}
