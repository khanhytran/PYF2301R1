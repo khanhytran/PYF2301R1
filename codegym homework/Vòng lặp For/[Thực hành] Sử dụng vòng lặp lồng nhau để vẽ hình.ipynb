{
 "cells": [
  {
   "cell_type": "code",
   "execution_count": 5,
   "id": "116d6d60",
   "metadata": {},
   "outputs": [],
   "source": [
    "import turtle\n",
    "\n",
    "wn = turtle.Screen()\n",
    "wn.bgcolor(\"black\")\n",
    "wn.title(\"Star\")\n",
    "\n",
    "#cài đặt màu sắc và tốc độ của hình vẽ:\n",
    "t = turtle.Turtle()\n",
    "t.speed(0)\n",
    "t.color(\"#FF0000\")\n",
    "\n",
    "#sử dụng for.in và hàm range()\n",
    "for j in range(1,100):\n",
    "    for i in range(1,6):\n",
    "        t.left(144)\n",
    "        t.forward(200)\n",
    "    t.left(5)\n",
    "turtle.done()"
   ]
  }
 ],
 "metadata": {
  "kernelspec": {
   "display_name": "Python 3 (ipykernel)",
   "language": "python",
   "name": "python3"
  },
  "language_info": {
   "codemirror_mode": {
    "name": "ipython",
    "version": 3
   },
   "file_extension": ".py",
   "mimetype": "text/x-python",
   "name": "python",
   "nbconvert_exporter": "python",
   "pygments_lexer": "ipython3",
   "version": "3.11.0"
  }
 },
 "nbformat": 4,
 "nbformat_minor": 5
}
