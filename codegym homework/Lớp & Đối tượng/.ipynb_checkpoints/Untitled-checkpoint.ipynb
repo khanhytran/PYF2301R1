{
 "cells": [
  {
   "cell_type": "code",
   "execution_count": 3,
   "id": "55c7bf61",
   "metadata": {
    "scrolled": true
   },
   "outputs": [],
   "source": [
    "class Student_list:\n",
    "    def __init__(self, name, date_of_birth, country, major, clas):\n",
    "        self.name = name\n",
    "        self.date_of_birth = date_of_birth\n",
    "        self.country = country\n",
    "        self.major = major\n",
    "        self.clas = clas"
   ]
  },
  {
   "cell_type": "code",
   "execution_count": null,
   "id": "f8370f54",
   "metadata": {},
   "outputs": [],
   "source": [
    "def input_student():\n",
    "    name = input('Name: ')\n",
    "    date_of_birth = input('Date of birht: ')\n",
    "    country = input('Country: ')\n",
    "    major = input('Major: ')\n",
    "    clas = input('Class: ')"
   ]
  }
 ],
 "metadata": {
  "kernelspec": {
   "display_name": "Python 3 (ipykernel)",
   "language": "python",
   "name": "python3"
  },
  "language_info": {
   "codemirror_mode": {
    "name": "ipython",
    "version": 3
   },
   "file_extension": ".py",
   "mimetype": "text/x-python",
   "name": "python",
   "nbconvert_exporter": "python",
   "pygments_lexer": "ipython3",
   "version": "3.11.0"
  }
 },
 "nbformat": 4,
 "nbformat_minor": 5
}
