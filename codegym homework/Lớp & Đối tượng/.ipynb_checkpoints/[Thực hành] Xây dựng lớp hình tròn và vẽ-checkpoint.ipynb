{
 "cells": [
  {
   "cell_type": "code",
   "execution_count": 5,
   "id": "9b849792",
   "metadata": {},
   "outputs": [
    {
     "name": "stdout",
     "output_type": "stream",
     "text": [
      "s =  31415.926535897932\n",
      "c =  628.3185307179587\n"
     ]
    }
   ],
   "source": [
    "import turtle\n",
    "import math\n",
    "\n",
    "#Xây dựng lớp hàm khởi tạo có các tham số như đề bài yêu cầu\n",
    "class Circle:\n",
    "    def __init__(self, r, x, y):\n",
    "        '''Hàm khởi tạo có tham số\n",
    "        :param r: Bán kính\n",
    "        :param x: Hoành độ x của tấm hình tròn\n",
    "        :param y: Tung độ y của tâm hình tròn\n",
    "        '''\n",
    "        self.r = r\n",
    "        self.x = x\n",
    "        self.y = y\n",
    "        \n",
    "# Xây dựng các phương thức vẽ đường tròn, tính chu vi, diện tích\n",
    "\n",
    "    def draw(self):\n",
    "        '''Phương thức vẽ đường tròn'''\n",
    "        t = turtle.Turtle()\n",
    "        t.hideturtle()\n",
    "        t.penup()\n",
    "        t.goto(self.x, self.y)\n",
    "        t.pendown()\n",
    "        t.circle(self.r)\n",
    "        turtle.done()\n",
    "        \n",
    "    def area(self):\n",
    "        '''Phương thức tính diện tích hình tròn'''\n",
    "        return math.pi * self.r ** 2\n",
    "        \n",
    "    def perimeter(self):\n",
    "        '''Phương thức tính chu vi đường tròn'''\n",
    "        return 2 * math.pi * self.r\n",
    "    \n",
    "#Tạo 1 đối tượng hình tròn, thực thi kiểm tra hàm\n",
    "\n",
    "c = Circle(100, -200, 0)\n",
    "c.draw()\n",
    "print('s = ', c.area())\n",
    "print('c = ', c.perimeter())"
   ]
  }
 ],
 "metadata": {
  "kernelspec": {
   "display_name": "Python 3 (ipykernel)",
   "language": "python",
   "name": "python3"
  },
  "language_info": {
   "codemirror_mode": {
    "name": "ipython",
    "version": 3
   },
   "file_extension": ".py",
   "mimetype": "text/x-python",
   "name": "python",
   "nbconvert_exporter": "python",
   "pygments_lexer": "ipython3",
   "version": "3.11.0"
  }
 },
 "nbformat": 4,
 "nbformat_minor": 5
}
