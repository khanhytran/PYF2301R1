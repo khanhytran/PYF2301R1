{
 "cells": [
  {
   "cell_type": "code",
   "execution_count": null,
   "id": "a32db4e6",
   "metadata": {},
   "outputs": [
    {
     "name": "stdout",
     "output_type": "stream",
     "text": [
      "Kết thúc\n",
      "Tiếng Anh của \"Con ong\" là: \n",
      "bee\n",
      "Đúng\n",
      "Nhập 0 để tiếp tục: 0\n",
      "Tiếng Anh của \"Con mèo\" là: \n",
      "dog\n",
      "Sai\n"
     ]
    }
   ],
   "source": [
    "import random\n",
    "\n",
    "#Xây dựng lớp flashcard với hàm khởi tạo. Thuộc tính của lớp lưu trữ các cặp từ Việt-Anh.\n",
    "\n",
    "class flashcard:\n",
    "    def __init__(self):\n",
    "        self.animals = {'Con ong': 'bee',\n",
    "                       'Con thỏ': 'rabbit',\n",
    "                       'Con cua': 'crab',\n",
    "                       'Con mèo': 'cat',\n",
    "                       'Con ngựa': 'horse',\n",
    "                       'Con khỉ': 'monkey',\n",
    "                       'Con lừa': 'donkey'}\n",
    "#Xây dựng phương thức quiz:\n",
    "    def quiz(self):\n",
    "        while True:\n",
    "            vietnamese, english = random.choice(list(self.animals.items()))\n",
    "\n",
    "            print('Tiếng Anh của \"{}\" là: '.format(vietnamese))\n",
    "            user_answer = input()\n",
    "\n",
    "            if user_answer.lower() == english:\n",
    "                print('Đúng')\n",
    "            else: print('Sai')\n",
    "\n",
    "            option = int(input(\"Nhập 0 để tiếp tục: \"))\n",
    "            if option: \n",
    "                break\n",
    "            \n",
    "    print('Kết thúc')\n",
    "    \n",
    "fc = flashcard()\n",
    "fc.quiz()"
   ]
  }
 ],
 "metadata": {
  "kernelspec": {
   "display_name": "Python 3 (ipykernel)",
   "language": "python",
   "name": "python3"
  },
  "language_info": {
   "codemirror_mode": {
    "name": "ipython",
    "version": 3
   },
   "file_extension": ".py",
   "mimetype": "text/x-python",
   "name": "python",
   "nbconvert_exporter": "python",
   "pygments_lexer": "ipython3",
   "version": "3.11.0"
  }
 },
 "nbformat": 4,
 "nbformat_minor": 5
}
