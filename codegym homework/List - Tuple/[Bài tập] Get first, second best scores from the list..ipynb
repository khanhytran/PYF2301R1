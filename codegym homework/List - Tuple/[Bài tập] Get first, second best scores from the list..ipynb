{
 "cells": [
  {
   "cell_type": "code",
   "execution_count": 2,
   "id": "3153145c",
   "metadata": {},
   "outputs": [
    {
     "name": "stdout",
     "output_type": "stream",
     "text": [
      "Số lớn nhất: 99\n",
      "Số lớn thứ hai: 87\n"
     ]
    }
   ],
   "source": [
    "list1 = [10, 32, 70, 99, 2, 87, 36, 54]\n",
    "\n",
    "#C1: Sắp xếp list theo thứ tự tăng dần, sau đó lấy các phần tử có chỉ số -1 và -2\n",
    "list1.sort()\n",
    "print(f\"Số lớn nhất: {list1[-1]}\")\n",
    "print(f\"Số lớn thứ hai: {list1[-2]}\")"
   ]
  },
  {
   "cell_type": "code",
   "execution_count": 4,
   "id": "327fb443",
   "metadata": {},
   "outputs": [
    {
     "name": "stdout",
     "output_type": "stream",
     "text": [
      "Số lớn nhất: 99\n",
      "Số lớn thứ hai: 87\n"
     ]
    }
   ],
   "source": [
    "list1 = [10, 32, 70, 99, 2, 87, 36, 54]\n",
    "#C2: Sắp xếp list theo thứ tự giảm dần, sau đó lấy các phần tử có chỉ số 0 và 1\n",
    "list1.sort(reverse = True)\n",
    "print(f\"Số lớn nhất: {list1[0]}\")\n",
    "print(f\"Số lớn thứ hai: {list1[1]}\")"
   ]
  }
 ],
 "metadata": {
  "kernelspec": {
   "display_name": "Python 3 (ipykernel)",
   "language": "python",
   "name": "python3"
  },
  "language_info": {
   "codemirror_mode": {
    "name": "ipython",
    "version": 3
   },
   "file_extension": ".py",
   "mimetype": "text/x-python",
   "name": "python",
   "nbconvert_exporter": "python",
   "pygments_lexer": "ipython3",
   "version": "3.11.0"
  }
 },
 "nbformat": 4,
 "nbformat_minor": 5
}
