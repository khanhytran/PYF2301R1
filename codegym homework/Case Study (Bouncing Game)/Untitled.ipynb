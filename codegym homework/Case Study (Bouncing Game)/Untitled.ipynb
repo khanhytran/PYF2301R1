{
 "cells": [
  {
   "cell_type": "code",
   "execution_count": 5,
   "id": "7d261214",
   "metadata": {},
   "outputs": [
    {
     "name": "stdout",
     "output_type": "stream",
     "text": [
      "4\n"
     ]
    }
   ],
   "source": [
    "a = {}\n",
    "\n",
    "a[1] = 1\n",
    "\n",
    "a[\"1\"] = 2\n",
    "\n",
    "a[1]=a[1]+1\n",
    "\n",
    "count = 0\n",
    "\n",
    "for i in a:\n",
    "\n",
    "    count += a[i]\n",
    "\n",
    "print(count)"
   ]
  }
 ],
 "metadata": {
  "kernelspec": {
   "display_name": "Python 3 (ipykernel)",
   "language": "python",
   "name": "python3"
  },
  "language_info": {
   "codemirror_mode": {
    "name": "ipython",
    "version": 3
   },
   "file_extension": ".py",
   "mimetype": "text/x-python",
   "name": "python",
   "nbconvert_exporter": "python",
   "pygments_lexer": "ipython3",
   "version": "3.11.0"
  }
 },
 "nbformat": 4,
 "nbformat_minor": 5
}
