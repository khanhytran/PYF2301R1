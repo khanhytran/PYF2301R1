{
 "cells": [
  {
   "cell_type": "code",
   "execution_count": 19,
   "id": "dd1025a4",
   "metadata": {},
   "outputs": [],
   "source": [
    "import turtle\n",
    "\n",
    "my_turtle = turtle.Turtle()\n",
    "\n",
    "# Vẽ elip\n",
    "angle = 0\n",
    "while angle <= 1:\n",
    "    my_turtle.circle(100, 90)\n",
    "    my_turtle.circle(100/2, 90)\n",
    "    angle += 1\n",
    "\n",
    "turtle.done()"
   ]
  },
  {
   "cell_type": "code",
   "execution_count": null,
   "id": "c7367ca5",
   "metadata": {},
   "outputs": [],
   "source": [
    "import turtle\n",
    "\n",
    "my_turtle = turtle.Turtle()\n",
    "\n",
    "# Thiết lập màn hình turtle\n",
    "screen = turtle.Screen()\n",
    "screen.setup(500, 500)\n",
    "screen.bgcolor('black')\n",
    "\n",
    "# Thiết lập màu:\n",
    "colors = ['red', 'orange', 'yellow', 'green', 'blue', 'purple']\n",
    "\n",
    "# Vẽ elip\n",
    "angle = 0\n",
    "while angle <= 1:\n",
    "    my_turtle.circle(100, 90)\n",
    "    my_turtle.circle(100/2, 90)\n",
    "    angle += 1\n",
    "\n",
    "turtle.done()"
   ]
  },
  {
   "cell_type": "code",
   "execution_count": 15,
   "id": "857daf5e",
   "metadata": {},
   "outputs": [],
   "source": [
    "import turtle\n",
    "\n",
    "# Thiết lập màn hình turtle\n",
    "screen = turtle.Screen()\n",
    "screen.setup(500, 500)\n",
    "screen.bgcolor('black')\n",
    "\n",
    "# Thiết lập turtle\n",
    "t = turtle.Turtle()\n",
    "t.speed(0)\n",
    "t.width(2)\n",
    "\n",
    "# Thiết lập các thông số ban đầu\n",
    "radius = 100\n",
    "x = 0\n",
    "y = 0\n",
    "angle = 10\n",
    "colors = ['red', 'orange', 'yellow', 'green', 'blue', 'purple']\n",
    "\n",
    "# Vẽ các hình ellipse\n",
    "count = 0\n",
    "while count < 20:\n",
    "    t.penup()\n",
    "    t.setpos(x, y)\n",
    "    t.pendown()\n",
    "    t.color(colors[count % len(colors)])\n",
    "    t.circle(radius, 90)\n",
    "    t.circle(radius/2, 90)\n",
    "    t.left(angle)\n",
    "    count += 1\n",
    "\n",
    "turtle.done()"
   ]
  }
 ],
 "metadata": {
  "kernelspec": {
   "display_name": "Python 3 (ipykernel)",
   "language": "python",
   "name": "python3"
  },
  "language_info": {
   "codemirror_mode": {
    "name": "ipython",
    "version": 3
   },
   "file_extension": ".py",
   "mimetype": "text/x-python",
   "name": "python",
   "nbconvert_exporter": "python",
   "pygments_lexer": "ipython3",
   "version": "3.11.0"
  }
 },
 "nbformat": 4,
 "nbformat_minor": 5
}
