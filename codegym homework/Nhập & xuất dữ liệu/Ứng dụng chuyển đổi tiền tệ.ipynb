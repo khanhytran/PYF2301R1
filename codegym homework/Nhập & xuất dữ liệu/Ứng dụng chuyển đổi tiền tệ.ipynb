{
 "cells": [
  {
   "cell_type": "code",
   "execution_count": 4,
   "id": "0cab5efb",
   "metadata": {},
   "outputs": [
    {
     "name": "stdout",
     "output_type": "stream",
     "text": [
      "Nhập số tiền USD cần đổi: 2\n",
      "Số tiền vnd chuyển đổi là:  46000 đồng\n"
     ]
    }
   ],
   "source": [
    "usd = int(input(\"Nhập số tiền USD cần đổi: \"))\n",
    "\n",
    "#Tỉ giá USD/VND\n",
    "vnd = usd * 23000\n",
    "\n",
    "print(\"Số tiền vnd chuyển đổi là: \", vnd, \"đồng\")"
   ]
  }
 ],
 "metadata": {
  "kernelspec": {
   "display_name": "Python 3 (ipykernel)",
   "language": "python",
   "name": "python3"
  },
  "language_info": {
   "codemirror_mode": {
    "name": "ipython",
    "version": 3
   },
   "file_extension": ".py",
   "mimetype": "text/x-python",
   "name": "python",
   "nbconvert_exporter": "python",
   "pygments_lexer": "ipython3",
   "version": "3.11.0"
  }
 },
 "nbformat": 4,
 "nbformat_minor": 5
}
