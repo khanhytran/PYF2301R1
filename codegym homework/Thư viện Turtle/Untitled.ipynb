{
 "cells": [
  {
   "cell_type": "markdown",
   "id": "52092334",
   "metadata": {},
   "source": [
    "# Bài tập vẽ nhà mơ ước"
   ]
  },
  {
   "cell_type": "code",
   "execution_count": 3,
   "id": "53cd7dc0",
   "metadata": {},
   "outputs": [],
   "source": [
    "# Cấp 1:\n",
    "\n",
    "import turtle \n",
    "pen = turtle.Turtle()\n",
    "m = 100;\n",
    "n = 150;\n",
    "\n",
    "# vẽ mái ngói\n",
    "pen.circle(-70, steps= 3)\n",
    "\n",
    "# vẽ cạnh đầu tiên\n",
    "pen.forward(m) # đi thẳng với m đơn vị\n",
    "pen.left(90)   # quay một góc 90 độ\n",
    " \n",
    "# vẽ cạnh thứ hai\n",
    "pen.forward(n) # đi thẳng với n đơn vị\n",
    "pen.left(90)   # quay một góc 90 độ\n",
    " \n",
    "# vẽ cạnh thứ ba\n",
    "pen.forward(m) # đi thẳng với m đơn vị\n",
    "pen.left(90)   # quay một góc 90 độ\n",
    " \n",
    "# vẽ cạnh thứ tư\n",
    "pen.forward(n) # đi thẳng với n đơn vị\n",
    "pen.left(90)   # quay một góc 90 độ\n",
    "\n",
    "turtle.done()"
   ]
  }
 ],
 "metadata": {
  "kernelspec": {
   "display_name": "Python 3 (ipykernel)",
   "language": "python",
   "name": "python3"
  },
  "language_info": {
   "codemirror_mode": {
    "name": "ipython",
    "version": 3
   },
   "file_extension": ".py",
   "mimetype": "text/x-python",
   "name": "python",
   "nbconvert_exporter": "python",
   "pygments_lexer": "ipython3",
   "version": "3.11.0"
  }
 },
 "nbformat": 4,
 "nbformat_minor": 5
}
