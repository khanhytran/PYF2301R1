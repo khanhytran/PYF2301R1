{
 "cells": [
  {
   "cell_type": "code",
   "execution_count": null,
   "id": "cb08baa7",
   "metadata": {},
   "outputs": [],
   "source": [
    "import turtle\n",
    "\n",
    "t = turtle.Turtle()\n",
    "\n",
    "t.forward(s)\n",
    "#s là độ dài đường thẳng\n",
    "\n",
    "t.left(d)\n",
    "#d là số độ ta muốn di chuyển"
   ]
  },
  {
   "cell_type": "code",
   "execution_count": 3,
   "id": "3b3d619c",
   "metadata": {},
   "outputs": [],
   "source": [
    "import turtle\n",
    "\n",
    "t = turtle.Turtle()\n",
    "\n",
    "m=150;\n",
    "n=100;\n",
    "\n",
    "#cạnh đầu tiên:\n",
    "t.forward(m) #đi thẳng với đơn vị m\n",
    "t.left(90) #quay một góc 90 độ\n",
    "\n",
    "#cạnh thứ hai:\n",
    "t.forward(n) #đi thẳng với đơn vị n\n",
    "t.left(90) #quay một góc 90 độ\n",
    "\n",
    "#cạnh đầu ba:\n",
    "t.forward(m) #đi thẳng với đơn vị m\n",
    "t.left(90) #quay một góc 90 độ\n",
    "\n",
    "#cạnh thứ tư:\n",
    "t.forward(n) #đi thẳng với đơn vị n\n",
    "t.left(90) #quay một góc 90 độ\n",
    "\n",
    "turtle.done()"
   ]
  },
  {
   "cell_type": "code",
   "execution_count": 12,
   "id": "7d859076",
   "metadata": {},
   "outputs": [],
   "source": [
    " import turtle\n",
    "\n",
    "screen = turtle.Screen()\n",
    "t= turtle.Turtle()\n",
    "t.shape(\"triangle\")"
   ]
  }
 ],
 "metadata": {
  "kernelspec": {
   "display_name": "Python 3 (ipykernel)",
   "language": "python",
   "name": "python3"
  },
  "language_info": {
   "codemirror_mode": {
    "name": "ipython",
    "version": 3
   },
   "file_extension": ".py",
   "mimetype": "text/x-python",
   "name": "python",
   "nbconvert_exporter": "python",
   "pygments_lexer": "ipython3",
   "version": "3.11.0"
  }
 },
 "nbformat": 4,
 "nbformat_minor": 5
}
