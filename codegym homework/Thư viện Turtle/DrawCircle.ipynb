{
 "cells": [
  {
   "cell_type": "code",
   "execution_count": 1,
   "id": "9c36b6e9",
   "metadata": {},
   "outputs": [],
   "source": [
    "import turtle\n",
    "\n",
    "#Đặt kích thước viền hình tròn: 5\n",
    "turtle.pensize(5)\n",
    "\n",
    "#Màu sắc viền\n",
    "turtle.pencolor(\"red\")\n",
    "\n",
    "#Màu nền hình tròn\n",
    "turtle.fillcolor(\"blue\")\n",
    "turtle.begin_fill()\n",
    "\n",
    "#Bán kính hình tròn: 100\n",
    "turtle.circle(100)\n",
    "turtle.end_fill()\n",
    "turtle.done()"
   ]
  },
  {
   "cell_type": "code",
   "execution_count": 5,
   "id": "6f938933",
   "metadata": {},
   "outputs": [],
   "source": [
    "import turtle\n",
    "\n",
    "#đặt kích thước viền cho hình tròn là 5\n",
    "turtle.pensize (5)\n",
    "\n",
    "#đặt màu sắc cho viền hình tròn là màu xanh\n",
    "turtle.pencolor (\"blue\")\n",
    "\n",
    "#for outer bigger circle\n",
    "#đặt màu nền cho hình tròn là màu đỏ\n",
    "turtle.fillcolor (\"red\")\n",
    "turtle.begin_fill()\n",
    "\n",
    "#đặt bán kính của hình tròn là 150\n",
    "turtle.circle (150)\n",
    "turtle.end_fill()\n",
    "turtle.done()"
   ]
  },
  {
   "cell_type": "code",
   "execution_count": 11,
   "id": "ed895446",
   "metadata": {},
   "outputs": [],
   "source": [
    "import turtle\n",
    "\n",
    "#đặt kích thước viền cho hình tròn là 5\n",
    "turtle.pensize (5)\n",
    "\n",
    "#đặt màu sắc cho viền hình tròn là màu đỏ\n",
    "turtle.pencolor (\"red\")\n",
    "\n",
    "#tuỳ chỉnh điểm bắt đầu vẽ hình tròn\n",
    "turtle.Turtle().goto(-40, 120)\n",
    "\n",
    "#đặt màu nền cho hình tròn là màu đỏ\n",
    "turtle.fillcolor (\"red\")\n",
    "turtle.begin_fill()\n",
    "\n",
    "#đặt bán kính của hình tròn là 150\n",
    "turtle.circle (150)\n",
    "turtle.end_fill()\n",
    "turtle.done()"
   ]
  }
 ],
 "metadata": {
  "kernelspec": {
   "display_name": "Python 3 (ipykernel)",
   "language": "python",
   "name": "python3"
  },
  "language_info": {
   "codemirror_mode": {
    "name": "ipython",
    "version": 3
   },
   "file_extension": ".py",
   "mimetype": "text/x-python",
   "name": "python",
   "nbconvert_exporter": "python",
   "pygments_lexer": "ipython3",
   "version": "3.11.0"
  }
 },
 "nbformat": 4,
 "nbformat_minor": 5
}
