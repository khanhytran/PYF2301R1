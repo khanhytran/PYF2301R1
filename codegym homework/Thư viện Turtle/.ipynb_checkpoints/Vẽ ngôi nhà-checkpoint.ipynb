{
 "cells": [
  {
   "cell_type": "markdown",
   "id": "f808ceb2",
   "metadata": {},
   "source": [
    "# Bài tập vẽ nhà mơ ước"
   ]
  },
  {
   "cell_type": "code",
   "execution_count": 2,
   "id": "b69d0509",
   "metadata": {},
   "outputs": [],
   "source": [
    "# Cấp 1:\n",
    "\n",
    "import turtle \n",
    "pen = turtle.Turtle()\n",
    "m = 200;\n",
    "n = 200;\n",
    "\n",
    "h = 100\n",
    "\n",
    "# vé thân nhà\n",
    "pen.penup()\n",
    "pen.goto(-200,0)\n",
    "pen.pendown()\n",
    "\n",
    "pen.left(90)\n",
    "pen.forward(m)\n",
    "pen.right(90)\n",
    "pen.forward(n)\n",
    "pen.right(90)\n",
    "pen.forward(m)\n",
    "pen.right(90)\n",
    "pen.forward(n)\n",
    "\n",
    "pen.penup()\n",
    "pen.goto(-150,0)\n",
    "pen.pendown()\n",
    "\n",
    "pen.right(90)\n",
    "pen.forward(h)\n",
    "pen.right(90)\n",
    "pen.forward(h)\n",
    "pen.right(90)\n",
    "pen.forward(h)\n",
    "pen.right(90)\n",
    "pen.forward(h)\n",
    "pen.right(90)\n",
    "\n",
    "# vẽ mái ngói\n",
    "pen.penup()\n",
    "pen.goto(0,200)\n",
    "pen.pendown()\n",
    "\n",
    "pen.left(60)\n",
    "pen.forward(116)\n",
    "pen.left(60)\n",
    "pen.forward(116)\n",
    "pen.left(60)"
   ]
  }
 ],
 "metadata": {
  "kernelspec": {
   "display_name": "Python 3 (ipykernel)",
   "language": "python",
   "name": "python3"
  },
  "language_info": {
   "codemirror_mode": {
    "name": "ipython",
    "version": 3
   },
   "file_extension": ".py",
   "mimetype": "text/x-python",
   "name": "python",
   "nbconvert_exporter": "python",
   "pygments_lexer": "ipython3",
   "version": "3.11.0"
  }
 },
 "nbformat": 4,
 "nbformat_minor": 5
}
