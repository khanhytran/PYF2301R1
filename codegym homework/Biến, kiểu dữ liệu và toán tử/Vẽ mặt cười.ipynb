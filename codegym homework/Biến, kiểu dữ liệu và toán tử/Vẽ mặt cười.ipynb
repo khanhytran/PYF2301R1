{
 "cells": [
  {
   "cell_type": "code",
   "execution_count": null,
   "id": "1a14ae11",
   "metadata": {},
   "outputs": [],
   "source": [
    "import turtle\n",
    "pen = turtle.Turtle()\n",
    "\n",
    "# Setup pen\n",
    "pen.pensize(3)\n",
    "pen.pencolor(\"Purple\")\n",
    "\n",
    "face_size = 200\n",
    "eye_size = 30\n",
    "\n",
    "#draw face\n",
    "pen.penup()\n",
    "pen.goto(0,-200)\n",
    "pen.pendown()\n",
    "pen.circle(face_size)\n",
    "\n",
    "# draw lefteye\n",
    "pen.penup()\n",
    "pen.goto(-100,40)\n",
    "pen.pendown()\n",
    "pen.circle(eye_size)\n",
    "\n",
    "#draw righteye\n",
    "pen.penup()\n",
    "pen.goto(100,40)\n",
    "pen.pendown()\n",
    "pen.circle(eye_size)\n",
    "\n",
    "#draw nose\n",
    "pen.penup()\n",
    "pen.goto(0,50)\n",
    "pen.pendown()\n",
    "pen.circle(-70, steps= 3) #vẽ tam giác đều\n",
    "\n",
    "#draw smiling mouth\n",
    "pen.penup()\n",
    "pen.goto(-100,-70)\n",
    "pen.pendown()\n",
    "pen.right(90)\n",
    "pen.circle(100,180)\n",
    "\n",
    "turtle.done()"
   ]
  }
 ],
 "metadata": {
  "kernelspec": {
   "display_name": "Python 3 (ipykernel)",
   "language": "python",
   "name": "python3"
  },
  "language_info": {
   "codemirror_mode": {
    "name": "ipython",
    "version": 3
   },
   "file_extension": ".py",
   "mimetype": "text/x-python",
   "name": "python",
   "nbconvert_exporter": "python",
   "pygments_lexer": "ipython3",
   "version": "3.11.0"
  }
 },
 "nbformat": 4,
 "nbformat_minor": 5
}
