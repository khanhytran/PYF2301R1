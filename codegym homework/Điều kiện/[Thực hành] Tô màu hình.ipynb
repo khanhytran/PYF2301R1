{
 "cells": [
  {
   "cell_type": "code",
   "execution_count": 1,
   "id": "5e148466",
   "metadata": {},
   "outputs": [
    {
     "name": "stdout",
     "output_type": "stream",
     "text": [
      "1\n"
     ]
    }
   ],
   "source": [
    "import turtle\n",
    "import random\n",
    "\n",
    "number = int(random.uniform(0,3))\n",
    "\n",
    "#Setup cửa sổ terminal\n",
    "wn = turtle.Screen()\n",
    "wn.bgcolor(\"black\")\n",
    "wn.title(\"Circle\")\n",
    "\n",
    "#Setup hình dạng khối tròn\n",
    "ball = turtle.Turtle()\n",
    "ball.shape('circle')\n",
    "\n",
    "#Kiểm tra giá trị\n",
    "if number < 1:\n",
    "    ball.color('green')\n",
    "elif number < 2:\n",
    "    ball.color('yellow')\n",
    "elif number < 3:\n",
    "    ball.color('red')\n",
    "    \n",
    "turtle.done()"
   ]
  }
 ],
 "metadata": {
  "kernelspec": {
   "display_name": "Python 3 (ipykernel)",
   "language": "python",
   "name": "python3"
  },
  "language_info": {
   "codemirror_mode": {
    "name": "ipython",
    "version": 3
   },
   "file_extension": ".py",
   "mimetype": "text/x-python",
   "name": "python",
   "nbconvert_exporter": "python",
   "pygments_lexer": "ipython3",
   "version": "3.11.0"
  }
 },
 "nbformat": 4,
 "nbformat_minor": 5
}
