{
 "cells": [
  {
   "cell_type": "code",
   "execution_count": 5,
   "id": "b19689a8",
   "metadata": {},
   "outputs": [
    {
     "name": "stdout",
     "output_type": "stream",
     "text": [
      "Please enter the number: 23482834\n",
      "23482834.0 is even number\n"
     ]
    }
   ],
   "source": [
    "num_check = float(input(\"Please enter the number: \"))\n",
    "\n",
    "if num_check % 2 == 0:\n",
    "    print(num_check, 'is even number')\n",
    "elif num_check % 2 == 1:\n",
    "    print(num_check, 'is odd number')\n",
    "else:\n",
    "    print(num_check, 'is not N')"
   ]
  }
 ],
 "metadata": {
  "kernelspec": {
   "display_name": "Python 3 (ipykernel)",
   "language": "python",
   "name": "python3"
  },
  "language_info": {
   "codemirror_mode": {
    "name": "ipython",
    "version": 3
   },
   "file_extension": ".py",
   "mimetype": "text/x-python",
   "name": "python",
   "nbconvert_exporter": "python",
   "pygments_lexer": "ipython3",
   "version": "3.11.0"
  }
 },
 "nbformat": 4,
 "nbformat_minor": 5
}
