{
 "cells": [
  {
   "cell_type": "code",
   "execution_count": 1,
   "id": "9903cffb",
   "metadata": {},
   "outputs": [
    {
     "name": "stdout",
     "output_type": "stream",
     "text": [
      "Circle and square, what is your favorite shape?:square\n",
      "What color will it be?, yellow, red or blue? :yellow\n"
     ]
    },
    {
     "ename": "TypeError",
     "evalue": "RawTurtle.shape() takes from 1 to 2 positional arguments but 3 were given",
     "output_type": "error",
     "traceback": [
      "\u001b[1;31m---------------------------------------------------------------------------\u001b[0m",
      "\u001b[1;31mTypeError\u001b[0m                                 Traceback (most recent call last)",
      "Cell \u001b[1;32mIn[1], line 14\u001b[0m\n\u001b[0;32m     11\u001b[0m wn\u001b[38;5;241m.\u001b[39mtitle(\u001b[38;5;124m\"\u001b[39m\u001b[38;5;124mYour shape\u001b[39m\u001b[38;5;124m\"\u001b[39m)\n\u001b[0;32m     13\u001b[0m displayShape \u001b[38;5;241m=\u001b[39m turtle\u001b[38;5;241m.\u001b[39mTurtle()\n\u001b[1;32m---> 14\u001b[0m \u001b[43mdisplayShape\u001b[49m\u001b[38;5;241;43m.\u001b[39;49m\u001b[43mshape\u001b[49m\u001b[43m(\u001b[49m\u001b[43mshapeInput\u001b[49m\u001b[43m,\u001b[49m\u001b[38;5;241;43m100\u001b[39;49m\u001b[43m)\u001b[49m\n\u001b[0;32m     15\u001b[0m displayShape\u001b[38;5;241m.\u001b[39mcolor(colorInput)\n\u001b[0;32m     17\u001b[0m turtle\u001b[38;5;241m.\u001b[39mdone()\n",
      "\u001b[1;31mTypeError\u001b[0m: RawTurtle.shape() takes from 1 to 2 positional arguments but 3 were given"
     ]
    }
   ],
   "source": [
    "import turtle\n",
    "\n",
    "shapeInput = input('Circle and square, what is your favorite shape?:')\n",
    "\n",
    "if shapeInput == 'circle' or shapeInput == 'square':\n",
    "    colorInput = input('What color will it be?, yellow, red or blue? :')\n",
    "    \n",
    "    if colorInput == 'yellow' or colorInput == 'red' or colorInput == 'blue':\n",
    "        wn = turtle.Screen()\n",
    "        wn.bgcolor(\"white\")\n",
    "        wn.title(\"Your shape\")\n",
    "\n",
    "        displayShape = turtle.Turtle()\n",
    "        displayShape.shape(shapeInput)\n",
    "        displayShape.color(colorInput)\n",
    "        \n",
    "        turtle.done()\n",
    "        \n",
    "    else:\n",
    "        print(\"Sorry, I don't have this color :(\")\n",
    "else:\n",
    "      print(\"Sorry, I don't have this shape :(\")"
   ]
  }
 ],
 "metadata": {
  "kernelspec": {
   "display_name": "Python 3 (ipykernel)",
   "language": "python",
   "name": "python3"
  },
  "language_info": {
   "codemirror_mode": {
    "name": "ipython",
    "version": 3
   },
   "file_extension": ".py",
   "mimetype": "text/x-python",
   "name": "python",
   "nbconvert_exporter": "python",
   "pygments_lexer": "ipython3",
   "version": "3.11.0"
  }
 },
 "nbformat": 4,
 "nbformat_minor": 5
}
