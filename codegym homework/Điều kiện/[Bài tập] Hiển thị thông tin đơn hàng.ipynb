{
 "cells": [
  {
   "cell_type": "code",
   "execution_count": 8,
   "id": "996a5c60",
   "metadata": {},
   "outputs": [
    {
     "name": "stdout",
     "output_type": "stream",
     "text": [
      "Please enter customer's bill total: 50\n",
      "no discount, need to pay 50\n"
     ]
    }
   ],
   "source": [
    "bill = int(input(\"Please enter customer's bill total: \"))\n",
    "\n",
    "if bill > 150:\n",
    "    print('discount 50$, need to pay:', bill-50)\n",
    "elif bill> 100:\n",
    "    print('discount 25$, need to pay:', bill-25)\n",
    "elif bill> 75:\n",
    "    print('discount 15$, need to pay:', bill-15)\n",
    "else:\n",
    "    print('no discount, need to pay', bill)"
   ]
  }
 ],
 "metadata": {
  "kernelspec": {
   "display_name": "Python 3 (ipykernel)",
   "language": "python",
   "name": "python3"
  },
  "language_info": {
   "codemirror_mode": {
    "name": "ipython",
    "version": 3
   },
   "file_extension": ".py",
   "mimetype": "text/x-python",
   "name": "python",
   "nbconvert_exporter": "python",
   "pygments_lexer": "ipython3",
   "version": "3.11.0"
  }
 },
 "nbformat": 4,
 "nbformat_minor": 5
}
