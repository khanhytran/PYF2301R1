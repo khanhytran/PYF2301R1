{
 "cells": [
  {
   "cell_type": "code",
   "execution_count": 6,
   "id": "9e47b194",
   "metadata": {},
   "outputs": [
    {
     "name": "stdout",
     "output_type": "stream",
     "text": [
      "Enter your weight: 43\n",
      "Enter your height: 1.54\n",
      "Bạn gầy cấp độ I\n"
     ]
    }
   ],
   "source": [
    "w = float(input(\"Enter your weight: \"))\n",
    "h = float(input(\"Enter your height: \"))\n",
    "\n",
    "BMI = w/(h **2)\n",
    "\n",
    "if BMI > 40:\n",
    "    print(\"Bạn béo phì cấp độ II\")\n",
    "elif BMI >= 35:\n",
    "    print(\"Bạn béo phì cấp độ I\")\n",
    "elif BMI >= 30:\n",
    "    print(\"Bạn thừa cân\")\n",
    "elif 25 <= BMI <= 30:\n",
    "    print(\"Bạn bình thường\")\n",
    "elif BMI >= 17:\n",
    "    print(\"Bạn gầy cấp độ I\")\n",
    "elif 16 <= BMI <= 17:\n",
    "    print(\"Bạn gầy cấp độ II\")\n",
    "else:\n",
    "    print(\"Bạn gầy cấp độ III\")"
   ]
  },
  {
   "cell_type": "code",
   "execution_count": 10,
   "id": "cfe69bfd",
   "metadata": {},
   "outputs": [
    {
     "name": "stdout",
     "output_type": "stream",
     "text": [
      "12 18\n"
     ]
    }
   ],
   "source": [
    "a = 12\n",
    "\n",
    "b = 15\n",
    "\n",
    "c = 18\n",
    "\n",
    "if a%2==0:\n",
    "\n",
    "    if b%c == 1:\n",
    "\n",
    "        c-=5\n",
    "\n",
    "        b+=12\n",
    "\n",
    "    if c%a == 6:\n",
    "\n",
    "        b-=13\n",
    "\n",
    "    else:\n",
    "\n",
    "        a=b=c=0\n",
    "\n",
    "print(a,c)"
   ]
  }
 ],
 "metadata": {
  "kernelspec": {
   "display_name": "Python 3 (ipykernel)",
   "language": "python",
   "name": "python3"
  },
  "language_info": {
   "codemirror_mode": {
    "name": "ipython",
    "version": 3
   },
   "file_extension": ".py",
   "mimetype": "text/x-python",
   "name": "python",
   "nbconvert_exporter": "python",
   "pygments_lexer": "ipython3",
   "version": "3.11.0"
  }
 },
 "nbformat": 4,
 "nbformat_minor": 5
}
