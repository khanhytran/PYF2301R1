{
 "cells": [
  {
   "cell_type": "code",
   "execution_count": 2,
   "id": "0979a517",
   "metadata": {},
   "outputs": [
    {
     "name": "stdout",
     "output_type": "stream",
     "text": [
      "Please enter the number: 3\n",
      "3 is odd number\n"
     ]
    }
   ],
   "source": [
    "num_check = int(input(\"Please enter the number: \"))\n",
    "\n",
    "if num_check % 2 == 0:\n",
    "    print(num_check, 'is even number')\n",
    "else:\n",
    "    print(num_check, 'is odd number')"
   ]
  }
 ],
 "metadata": {
  "kernelspec": {
   "display_name": "Python 3 (ipykernel)",
   "language": "python",
   "name": "python3"
  },
  "language_info": {
   "codemirror_mode": {
    "name": "ipython",
    "version": 3
   },
   "file_extension": ".py",
   "mimetype": "text/x-python",
   "name": "python",
   "nbconvert_exporter": "python",
   "pygments_lexer": "ipython3",
   "version": "3.11.0"
  }
 },
 "nbformat": 4,
 "nbformat_minor": 5
}
