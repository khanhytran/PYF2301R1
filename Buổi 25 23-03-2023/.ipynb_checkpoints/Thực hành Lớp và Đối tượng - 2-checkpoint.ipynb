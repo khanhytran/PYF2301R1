{
 "cells": [
  {
   "cell_type": "code",
   "execution_count": null,
   "id": "a42fa0c7",
   "metadata": {},
   "outputs": [],
   "source": [
    "\"\"\"\n",
    "Tạo class có tên MathUtils gồm có các thuộc tính và phương thức sau:\n",
    "+ Thuộc tính: number1, number2\n",
    "+ Phương thức:\n",
    "- Phương thức tạo __init()__\n",
    "- print_info(): dùng để hiển thị number1, number2\n",
    "- addition(): trả về kết quả phép cộng number1, number2\n",
    "- subtract(): trả về kết quả phép trừ number1, number2\n",
    "- multi(): trả về kết quả phép nhân number1, number2\n",
    "- division(): trả về kết quả phép chia number1, number2.\n",
    "\n",
    "Sau khi tạo class, khởi tạo một object SoHoc và in ra kết quả tính toán từ các hàm thực hiện phép tính\n",
    "\"\"\""
   ]
  },
  {
   "cell_type": "code",
   "execution_count": null,
   "id": "976a6644",
   "metadata": {},
   "outputs": [],
   "source": [
    "class MathUtils:\n",
    "    def __init__(self, num1, num2):\n",
    "        self.num1 = 0\n",
    "        self.num2 = 0\n",
    "        "
   ]
  }
 ],
 "metadata": {
  "kernelspec": {
   "display_name": "Python 3 (ipykernel)",
   "language": "python",
   "name": "python3"
  },
  "language_info": {
   "codemirror_mode": {
    "name": "ipython",
    "version": 3
   },
   "file_extension": ".py",
   "mimetype": "text/x-python",
   "name": "python",
   "nbconvert_exporter": "python",
   "pygments_lexer": "ipython3",
   "version": "3.11.0"
  }
 },
 "nbformat": 4,
 "nbformat_minor": 5
}
