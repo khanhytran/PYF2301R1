{
 "cells": [
  {
   "cell_type": "code",
   "execution_count": null,
   "id": "1b7705b3",
   "metadata": {},
   "outputs": [],
   "source": [
    "\"\"\"\n",
    "Viết class NhanVien gồm các thuộc tính:\n",
    "+ Tên\n",
    "+ Tuổi\n",
    "+ Địa chỉ\n",
    "+ Tiền lương\n",
    "+ Tổng số giờ làm\n",
    "\n",
    "Và các phương thức:\n",
    "- Phương thức tạo\n",
    "- input_info() : Nhập các thông tin cho nhân viên từ bàn phím\n",
    "- print_info() : In ra tất cả các thông tin của nhân viên\n",
    "- tinh_thuong(): Tính toán và trả về số tiền thưởng của nhân viên theo công thức sau:\n",
    "Nếu tổng số giờ làm của nhân viên >=200 thì thưởng = lương * 20%\n",
    "Nếu tổng số giờ làm của nhân viên <200 và >=100 thì thưởng = lương * 10%\n",
    "Nếu tổng số giờ làm của nhân viên <100 thì thưởng = 0\n",
    "\"\"\""
   ]
  },
  {
   "cell_type": "code",
   "execution_count": 5,
   "id": "3cf0f41d",
   "metadata": {},
   "outputs": [
    {
     "name": "stdout",
     "output_type": "stream",
     "text": [
      "Tên của nhân viên: 2\n",
      "Tuổi của nhân viên: 3\n",
      "Địa chỉ: 3\n",
      "Tiền lương: 1000000\n",
      "Tổng giờ làm: 230\n",
      "\n",
      "Tên: 2\n",
      "Tuổi: 3 tuổi\n",
      "Địa chỉ: 3\n",
      "Tiền lương: 1,000,000 VND\n",
      "Tổng giờ làm: 230.0 giờ\n",
      "Tiền thưởng: 200,000 VND\n"
     ]
    }
   ],
   "source": [
    "class NhanVien:\n",
    "    name = input(\"Tên của nhân viên: \")\n",
    "    age = input(\"Tuổi của nhân viên: \")\n",
    "    address = input(\"Địa chỉ: \")\n",
    "    salary = int(input(\"Tiền lương: \"))\n",
    "    total_work_hours = float(input(\"Tổng giờ làm: \"))\n",
    "    bonus = 0\n",
    "    \n",
    "    def tinh_thuong(self):\n",
    "        if self.total_work_hours >= 200:\n",
    "            self.bonus = self.salary * 0.2\n",
    "        elif 100 <= self.total_work_hours <200:\n",
    "            self.bonus = self.salary * 0.1\n",
    "        else:\n",
    "            self.bonus\n",
    "        \n",
    "        \n",
    "    def intro(self):\n",
    "        print(f'Tên: {self.name}')\n",
    "        print(f'Tuổi: {self.age} tuổi')\n",
    "        print(f'Địa chỉ: {self.address}')\n",
    "        print(f'Tiền lương: {self.salary:,.0f} VND')\n",
    "        print(f'Tổng giờ làm: {self.total_work_hours} giờ')\n",
    "        print(f\"Tiền thưởng: {self.bonus:,.0f} VND\")\n",
    "            \n",
    "employee = NhanVien()\n",
    "print()\n",
    "employee.intro()"
   ]
  },
  {
   "cell_type": "code",
   "execution_count": null,
   "id": "ef75db3a",
   "metadata": {},
   "outputs": [
    {
     "name": "stdout",
     "output_type": "stream",
     "text": [
      "Please input name: Anna\n",
      "Please input age: 23\n",
      "Please input address: Sg\n",
      "Please input salary: 1000000\n"
     ]
    }
   ],
   "source": [
    "class NhanVien:\n",
    "    def __init__(self):\n",
    "        self.name = ''\n",
    "        self.age = ''\n",
    "        self.address = ''\n",
    "        self.salary = ''\n",
    "        self.total_working_hour = 0\n",
    "        \n",
    "    def input_info(self):\n",
    "        self.name = input(\"Please input name: \")\n",
    "        self.age = int(input(\"Please input age: \"))\n",
    "        self.address = input(\"Please input address: \")\n",
    "        self.salary = int(input(\"Please input salary: \"))\n",
    "        self.total_working_hour = int(input(\"Please input total working hour: \"))\n",
    "        \n",
    "    def calc_bonus(self):\n",
    "        bonus = 0\n",
    "        if 100<= self.total_working_hour < 200:\n",
    "            bonus = 0.1 * self.salary\n",
    "        elif self.total_working_hour >= 200:\n",
    "            bonus = 0.2 * self.salary\n",
    "        else: return bonus\n",
    "        \n",
    "    def print_info(self):\n",
    "        print(f'Tên: {self.name}')\n",
    "        print(f'Tuổi: {self.age} tuổi')\n",
    "        print(f'Địa chỉ: {self.address}')\n",
    "        print(f'Tiền lương: {self.salary:,.0f} VND')\n",
    "        print(f'Tổng giờ làm: {self.total_working_hour} giờ')\n",
    "        print(f\"Tiền thưởng: {self.calc_bonus():,.0f} VND\")\n",
    "        \n",
    "emp1 = NhanVien()\n",
    "emp1.input_info()\n",
    "print()\n",
    "emp1.print_info()"
   ]
  }
 ],
 "metadata": {
  "kernelspec": {
   "display_name": "Python 3 (ipykernel)",
   "language": "python",
   "name": "python3"
  },
  "language_info": {
   "codemirror_mode": {
    "name": "ipython",
    "version": 3
   },
   "file_extension": ".py",
   "mimetype": "text/x-python",
   "name": "python",
   "nbconvert_exporter": "python",
   "pygments_lexer": "ipython3",
   "version": "3.11.0"
  }
 },
 "nbformat": 4,
 "nbformat_minor": 5
}
