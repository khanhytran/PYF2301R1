{
 "cells": [
  {
   "cell_type": "code",
   "execution_count": null,
   "id": "a42fa0c7",
   "metadata": {},
   "outputs": [],
   "source": [
    "\"\"\"\n",
    "Tạo class có tên MathUtils gồm có các thuộc tính và phương thức sau:\n",
    "+ Thuộc tính: number1, number2\n",
    "+ Phương thức:\n",
    "- Phương thức tạo __init()__\n",
    "- print_info(): dùng để hiển thị number1, number2\n",
    "- addition(): trả về kết quả phép cộng number1, number2\n",
    "- subtract(): trả về kết quả phép trừ number1, number2\n",
    "- multi(): trả về kết quả phép nhân number1, number2\n",
    "- division(): trả về kết quả phép chia number1, number2.\n",
    "\n",
    "Sau khi tạo class, khởi tạo một object SoHoc và in ra kết quả tính toán từ các hàm thực hiện phép tính\n",
    "\"\"\""
   ]
  },
  {
   "cell_type": "code",
   "execution_count": 16,
   "id": "2e561f35",
   "metadata": {},
   "outputs": [
    {
     "name": "stdout",
     "output_type": "stream",
     "text": [
      "Number 1: 2\n",
      "Number 2: 3\n",
      "Total addition: 5\n",
      "Total subtract: -1\n"
     ]
    }
   ],
   "source": [
    "class MathUtils:\n",
    "    def __init__(self, num1, num2):\n",
    "        self.num1 = num1\n",
    "        self.num2 = num2\n",
    "        \n",
    "    def addition(self):\n",
    "        print(f\"Total addition: {self.num1 + self.num2}\")\n",
    "        \n",
    "    def subtract(self):\n",
    "        print(f\"Total subtract: {self.num1 - self.num2}\")\n",
    "\n",
    "    def multi(self):\n",
    "        print(f\"Total multi: {self.num1 * self.num2}\")\n",
    "\n",
    "    def division(self):\n",
    "        print(f\"Total division: {self.num1 / self.num2}\")\n",
    "        \n",
    "    def print_info(self):\n",
    "        print(f'Number 1: {self.num1}')\n",
    "        print(f'Number 2: {self.num2}')\n",
    "        \n",
    "        \n",
    "sohoc = MathUtils(2,3)\n",
    "sohoc.print_info()\n",
    "sohoc.addition()\n",
    "sohoc.subtract()"
   ]
  }
 ],
 "metadata": {
  "kernelspec": {
   "display_name": "Python 3 (ipykernel)",
   "language": "python",
   "name": "python3"
  },
  "language_info": {
   "codemirror_mode": {
    "name": "ipython",
    "version": 3
   },
   "file_extension": ".py",
   "mimetype": "text/x-python",
   "name": "python",
   "nbconvert_exporter": "python",
   "pygments_lexer": "ipython3",
   "version": "3.11.0"
  }
 },
 "nbformat": 4,
 "nbformat_minor": 5
}
